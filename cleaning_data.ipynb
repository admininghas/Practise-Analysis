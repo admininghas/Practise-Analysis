{
 "cells": [
  {
   "cell_type": "markdown",
   "metadata": {},
   "source": [
    "sebelumnya daya sudah melakukan scraping ke web FemaleDaily,  \n",
    "dengan bantuan **library requests dan BeautifulSoup**.  \n",
    "kemudian saya save dalam format .csv ('data-review-3.csv').  \n",
    "**code** lengkapnya ada di **private repo saya** :))\n",
    "\n",
    "ada beberapa data variabel yang saya ambil, diantaranya:\n",
    "- types: tipe kulit (normal, dry, oily, combination)\n",
    "- tones: warna kulit (dark, medium, light, dst)\n",
    "- undertones: warna dasar kulit (warm, cool, neutral)\n",
    "- ages: rentang umur\n",
    "- periode: rentang periode pemakaian produk\n",
    "- content: isi review dari pengguna\n",
    "- buy: tempat pengguna membeli produk\n",
    "- recommend: tanggapan pengguna tentang produk (merekomendasi atau tidak merekomendasi)\n",
    "- likes: jumlah pengguna lain yang menyetujui review tersebut"
   ]
  },
  {
   "cell_type": "code",
   "execution_count": 1,
   "metadata": {
    "collapsed": true
   },
   "outputs": [],
   "source": [
    "import pandas as pd"
   ]
  },
  {
   "cell_type": "code",
   "execution_count": 2,
   "metadata": {
    "collapsed": true
   },
   "outputs": [],
   "source": [
    "data = pd.read_csv('data-review-3.csv')\n",
    "df = pd.DataFrame(data)"
   ]
  },
  {
   "cell_type": "code",
   "execution_count": 3,
   "metadata": {},
   "outputs": [
    {
     "name": "stdout",
     "output_type": "stream",
     "text": [
      "<class 'pandas.core.frame.DataFrame'>\n",
      "RangeIndex: 990 entries, 0 to 989\n",
      "Data columns (total 7 columns):\n",
      " #   Column     Non-Null Count  Dtype \n",
      "---  ------     --------------  ----- \n",
      " 0   skin       990 non-null    object\n",
      " 1   age        990 non-null    object\n",
      " 2   periode    989 non-null    object\n",
      " 3   content    990 non-null    object\n",
      " 4   buy        989 non-null    object\n",
      " 5   recommend  985 non-null    object\n",
      " 6   likes      990 non-null    int64 \n",
      "dtypes: int64(1), object(6)\n",
      "memory usage: 54.3+ KB\n"
     ]
    }
   ],
   "source": [
    "df.info()"
   ]
  },
  {
   "cell_type": "code",
   "execution_count": 4,
   "metadata": {
    "collapsed": true
   },
   "outputs": [],
   "source": [
    "for column in df.columns:\n",
    "    if column != 'likes':\n",
    "        df[column] = df[column].str.lower()"
   ]
  },
  {
   "cell_type": "code",
   "execution_count": 5,
   "metadata": {},
   "outputs": [
    {
     "data": {
      "text/html": [
       "<div>\n",
       "<style scoped>\n",
       "    .dataframe tbody tr th:only-of-type {\n",
       "        vertical-align: middle;\n",
       "    }\n",
       "\n",
       "    .dataframe tbody tr th {\n",
       "        vertical-align: top;\n",
       "    }\n",
       "\n",
       "    .dataframe thead th {\n",
       "        text-align: right;\n",
       "    }\n",
       "</style>\n",
       "<table border=\"1\" class=\"dataframe\">\n",
       "  <thead>\n",
       "    <tr style=\"text-align: right;\">\n",
       "      <th></th>\n",
       "      <th>skin</th>\n",
       "      <th>age</th>\n",
       "      <th>periode</th>\n",
       "      <th>content</th>\n",
       "      <th>buy</th>\n",
       "      <th>recommend</th>\n",
       "      <th>likes</th>\n",
       "    </tr>\n",
       "  </thead>\n",
       "  <tbody>\n",
       "    <tr>\n",
       "      <th>0</th>\n",
       "      <td>oily, medium light, cool</td>\n",
       "      <td>25 - 29</td>\n",
       "      <td>1 month - 3 months</td>\n",
       "      <td>beli ini impulsif aja karena murah lol. walaup...</td>\n",
       "      <td>watson</td>\n",
       "      <td>recommends this product!</td>\n",
       "      <td>5</td>\n",
       "    </tr>\n",
       "    <tr>\n",
       "      <th>1</th>\n",
       "      <td>normal, medium dark, warm</td>\n",
       "      <td>19 - 24</td>\n",
       "      <td>more than 1 year</td>\n",
       "      <td>toner pertamaku dan suka banget. teksturnya ri...</td>\n",
       "      <td>transmart</td>\n",
       "      <td>recommends this product!</td>\n",
       "      <td>0</td>\n",
       "    </tr>\n",
       "    <tr>\n",
       "      <th>2</th>\n",
       "      <td>19 - 24</td>\n",
       "      <td>19 - 24</td>\n",
       "      <td>1 month - 3 months</td>\n",
       "      <td>first time nyoba produk ini yang 30ml dan gak ...</td>\n",
       "      <td>shopee</td>\n",
       "      <td>recommends this product!</td>\n",
       "      <td>0</td>\n",
       "    </tr>\n",
       "    <tr>\n",
       "      <th>3</th>\n",
       "      <td>normal, medium light, neutral</td>\n",
       "      <td>19 - 24</td>\n",
       "      <td>6 months - 1 year</td>\n",
       "      <td>produk ini pernah vital dan jadilah susah untu...</td>\n",
       "      <td>transmart</td>\n",
       "      <td>recommends this product!</td>\n",
       "      <td>0</td>\n",
       "    </tr>\n",
       "    <tr>\n",
       "      <th>4</th>\n",
       "      <td>dry, medium, neutral</td>\n",
       "      <td>19 - 24</td>\n",
       "      <td>more than 1 year</td>\n",
       "      <td>hydrating toner andalan banget udah repurchase...</td>\n",
       "      <td>tokopedia</td>\n",
       "      <td>recommends this product!</td>\n",
       "      <td>0</td>\n",
       "    </tr>\n",
       "  </tbody>\n",
       "</table>\n",
       "</div>"
      ],
      "text/plain": [
       "                            skin      age              periode  \\\n",
       "0       oily, medium light, cool  25 - 29   1 month - 3 months   \n",
       "1      normal, medium dark, warm  19 - 24     more than 1 year   \n",
       "2                        19 - 24  19 - 24   1 month - 3 months   \n",
       "3  normal, medium light, neutral  19 - 24    6 months - 1 year   \n",
       "4           dry, medium, neutral  19 - 24     more than 1 year   \n",
       "\n",
       "                                             content         buy  \\\n",
       "0  beli ini impulsif aja karena murah lol. walaup...      watson   \n",
       "1  toner pertamaku dan suka banget. teksturnya ri...   transmart   \n",
       "2  first time nyoba produk ini yang 30ml dan gak ...      shopee   \n",
       "3  produk ini pernah vital dan jadilah susah untu...   transmart   \n",
       "4  hydrating toner andalan banget udah repurchase...   tokopedia   \n",
       "\n",
       "                  recommend  likes  \n",
       "0  recommends this product!      5  \n",
       "1  recommends this product!      0  \n",
       "2  recommends this product!      0  \n",
       "3  recommends this product!      0  \n",
       "4  recommends this product!      0  "
      ]
     },
     "execution_count": 5,
     "metadata": {},
     "output_type": "execute_result"
    }
   ],
   "source": [
    "df.head()"
   ]
  },
  {
   "cell_type": "code",
   "execution_count": 6,
   "metadata": {},
   "outputs": [
    {
     "data": {
      "text/plain": [
       "skin         False\n",
       "age          False\n",
       "periode       True\n",
       "content      False\n",
       "buy           True\n",
       "recommend     True\n",
       "likes        False\n",
       "dtype: bool"
      ]
     },
     "execution_count": 6,
     "metadata": {},
     "output_type": "execute_result"
    }
   ],
   "source": [
    "df.isnull().any()"
   ]
  },
  {
   "cell_type": "markdown",
   "metadata": {},
   "source": [
    "#### before"
   ]
  },
  {
   "cell_type": "code",
   "execution_count": 7,
   "metadata": {},
   "outputs": [
    {
     "data": {
      "text/html": [
       "<div>\n",
       "<style scoped>\n",
       "    .dataframe tbody tr th:only-of-type {\n",
       "        vertical-align: middle;\n",
       "    }\n",
       "\n",
       "    .dataframe tbody tr th {\n",
       "        vertical-align: top;\n",
       "    }\n",
       "\n",
       "    .dataframe thead th {\n",
       "        text-align: right;\n",
       "    }\n",
       "</style>\n",
       "<table border=\"1\" class=\"dataframe\">\n",
       "  <thead>\n",
       "    <tr style=\"text-align: right;\">\n",
       "      <th></th>\n",
       "      <th>skin</th>\n",
       "      <th>age</th>\n",
       "      <th>periode</th>\n",
       "      <th>content</th>\n",
       "      <th>buy</th>\n",
       "      <th>recommend</th>\n",
       "      <th>likes</th>\n",
       "    </tr>\n",
       "  </thead>\n",
       "  <tbody>\n",
       "    <tr>\n",
       "      <th>276</th>\n",
       "      <td>oily, medium light, warm</td>\n",
       "      <td>19 - 24</td>\n",
       "      <td>NaN</td>\n",
       "      <td>kecintaan dari jaman sma dulu, awalnya pake yg...</td>\n",
       "      <td>NaN</td>\n",
       "      <td>NaN</td>\n",
       "      <td>0</td>\n",
       "    </tr>\n",
       "  </tbody>\n",
       "</table>\n",
       "</div>"
      ],
      "text/plain": [
       "                         skin      age periode  \\\n",
       "276  oily, medium light, warm  19 - 24     NaN   \n",
       "\n",
       "                                               content  buy recommend  likes  \n",
       "276  kecintaan dari jaman sma dulu, awalnya pake yg...  NaN       NaN      0  "
      ]
     },
     "execution_count": 7,
     "metadata": {},
     "output_type": "execute_result"
    }
   ],
   "source": [
    "# pd.set_option('display.max_colwidth', 500)\n",
    "df[df['periode'].isnull()]"
   ]
  },
  {
   "cell_type": "markdown",
   "metadata": {},
   "source": [
    "#### after"
   ]
  },
  {
   "cell_type": "code",
   "execution_count": 8,
   "metadata": {
    "collapsed": true
   },
   "outputs": [],
   "source": [
    "df['periode'] = df['periode'].fillna(value=' more than 1 year')"
   ]
  },
  {
   "cell_type": "code",
   "execution_count": 9,
   "metadata": {},
   "outputs": [
    {
     "data": {
      "text/plain": [
       "False"
      ]
     },
     "execution_count": 9,
     "metadata": {},
     "output_type": "execute_result"
    }
   ],
   "source": [
    "df['periode'].isnull().any()"
   ]
  },
  {
   "cell_type": "markdown",
   "metadata": {},
   "source": [
    "#### before"
   ]
  },
  {
   "cell_type": "code",
   "execution_count": 10,
   "metadata": {},
   "outputs": [
    {
     "data": {
      "text/html": [
       "<div>\n",
       "<style scoped>\n",
       "    .dataframe tbody tr th:only-of-type {\n",
       "        vertical-align: middle;\n",
       "    }\n",
       "\n",
       "    .dataframe tbody tr th {\n",
       "        vertical-align: top;\n",
       "    }\n",
       "\n",
       "    .dataframe thead th {\n",
       "        text-align: right;\n",
       "    }\n",
       "</style>\n",
       "<table border=\"1\" class=\"dataframe\">\n",
       "  <thead>\n",
       "    <tr style=\"text-align: right;\">\n",
       "      <th></th>\n",
       "      <th>skin</th>\n",
       "      <th>age</th>\n",
       "      <th>periode</th>\n",
       "      <th>content</th>\n",
       "      <th>buy</th>\n",
       "      <th>recommend</th>\n",
       "      <th>likes</th>\n",
       "    </tr>\n",
       "  </thead>\n",
       "  <tbody>\n",
       "    <tr>\n",
       "      <th>276</th>\n",
       "      <td>oily, medium light, warm</td>\n",
       "      <td>19 - 24</td>\n",
       "      <td>more than 1 year</td>\n",
       "      <td>kecintaan dari jaman sma dulu, awalnya pake yg...</td>\n",
       "      <td>NaN</td>\n",
       "      <td>NaN</td>\n",
       "      <td>0</td>\n",
       "    </tr>\n",
       "  </tbody>\n",
       "</table>\n",
       "</div>"
      ],
      "text/plain": [
       "                         skin      age            periode  \\\n",
       "276  oily, medium light, warm  19 - 24   more than 1 year   \n",
       "\n",
       "                                               content  buy recommend  likes  \n",
       "276  kecintaan dari jaman sma dulu, awalnya pake yg...  NaN       NaN      0  "
      ]
     },
     "execution_count": 10,
     "metadata": {},
     "output_type": "execute_result"
    }
   ],
   "source": [
    "df[df['buy'].isnull()]"
   ]
  },
  {
   "cell_type": "code",
   "execution_count": 21,
   "metadata": {},
   "outputs": [
    {
     "data": {
      "text/plain": [
       "buy\n",
       "                                       1\n",
       " aeon                                  4\n",
       " alfamart                              1\n",
       " amora                                 1\n",
       " aster kosmetik                        1\n",
       " beauty studio                         3\n",
       " beautyhaulindo                        1\n",
       " boston drugs & pharmacy store         1\n",
       " brand website                         5\n",
       " century                               2\n",
       " chacha                                1\n",
       " daisy                                 1\n",
       " dan+dan                              13\n",
       " facebook                              2\n",
       " fd try and review                     1\n",
       " gemini                                1\n",
       " gift                                  2\n",
       " guardian                             28\n",
       " hypermart                             8\n",
       " indomaret                             1\n",
       " instagram                             1\n",
       " lazada                                8\n",
       " mahmud                                1\n",
       " matahari                              2\n",
       " minimarket                            1\n",
       " mirota                                1\n",
       " monita                                1\n",
       " muara cosmetic                        1\n",
       " nyoba punya ade                       1\n",
       " official brand store                  2\n",
       " pamella                               1\n",
       " princess cosmetic                     1\n",
       " ranch/farmer's market                 1\n",
       " sardo                                 1\n",
       " shopee                              306\n",
       " toko natural kosmetik banda aceh      1\n",
       " tokopedia                            18\n",
       " toserba griya                         1\n",
       " traditional market                   16\n",
       " transmart                             3\n",
       " watson                               20\n",
       " watsons                               1\n",
       " yogya junction 8                      1\n",
       " yogya supermarket                     1\n",
       "dtype: int64"
      ]
     },
     "execution_count": 21,
     "metadata": {},
     "output_type": "execute_result"
    }
   ],
   "source": [
    "df.groupby('buy').size()"
   ]
  },
  {
   "cell_type": "markdown",
   "metadata": {},
   "source": [
    "#### after"
   ]
  },
  {
   "cell_type": "code",
   "execution_count": 11,
   "metadata": {
    "collapsed": true
   },
   "outputs": [],
   "source": [
    "df['buy'] = df['buy'].fillna(value=' shopee')"
   ]
  },
  {
   "cell_type": "code",
   "execution_count": 12,
   "metadata": {},
   "outputs": [
    {
     "data": {
      "text/plain": [
       "False"
      ]
     },
     "execution_count": 12,
     "metadata": {},
     "output_type": "execute_result"
    }
   ],
   "source": [
    "df['buy'].isnull().any()"
   ]
  },
  {
   "cell_type": "code",
   "execution_count": 13,
   "metadata": {
    "collapsed": true
   },
   "outputs": [],
   "source": [
    "df.loc[df['buy'] == ' watsons', ['buy']] = ' watson'\n",
    "df.loc[df['buy'] == ' ', ['buy']] = ' shopee'"
   ]
  },
  {
   "cell_type": "code",
   "execution_count": 31,
   "metadata": {},
   "outputs": [
    {
     "data": {
      "text/plain": [
       "buy\n",
       " aeon                                  4\n",
       " alfamart                              1\n",
       " amora                                 1\n",
       " aster kosmetik                        1\n",
       " beauty studio                         3\n",
       " beautyhaulindo                        1\n",
       " boston drugs & pharmacy store         1\n",
       " brand website                         5\n",
       " century                               2\n",
       " chacha                                1\n",
       " daisy                                 1\n",
       " dan+dan                              13\n",
       " facebook                              2\n",
       " fd try and review                     1\n",
       " gemini                                1\n",
       " gift                                  2\n",
       " guardian                             28\n",
       " hypermart                             8\n",
       " indomaret                             1\n",
       " instagram                             1\n",
       " lazada                                8\n",
       " mahmud                                1\n",
       " matahari                              2\n",
       " minimarket                            1\n",
       " mirota                                1\n",
       " monita                                1\n",
       " muara cosmetic                        1\n",
       " nyoba punya ade                       1\n",
       " official brand store                  2\n",
       " pamella                               1\n",
       " princess cosmetic                     1\n",
       " ranch/farmer's market                 1\n",
       " sardo                                 1\n",
       " shopee                              308\n",
       " toko natural kosmetik banda aceh      1\n",
       " tokopedia                            18\n",
       " toserba griya                         1\n",
       " traditional market                   16\n",
       " transmart                             3\n",
       " watson                               21\n",
       " yogya junction 8                      1\n",
       " yogya supermarket                     1\n",
       "dtype: int64"
      ]
     },
     "execution_count": 31,
     "metadata": {},
     "output_type": "execute_result"
    }
   ],
   "source": [
    "df.groupby('buy').size()"
   ]
  },
  {
   "cell_type": "code",
   "execution_count": 14,
   "metadata": {},
   "outputs": [
    {
     "data": {
      "text/html": [
       "<div>\n",
       "<style scoped>\n",
       "    .dataframe tbody tr th:only-of-type {\n",
       "        vertical-align: middle;\n",
       "    }\n",
       "\n",
       "    .dataframe tbody tr th {\n",
       "        vertical-align: top;\n",
       "    }\n",
       "\n",
       "    .dataframe thead th {\n",
       "        text-align: right;\n",
       "    }\n",
       "</style>\n",
       "<table border=\"1\" class=\"dataframe\">\n",
       "  <thead>\n",
       "    <tr style=\"text-align: right;\">\n",
       "      <th></th>\n",
       "      <th>skin</th>\n",
       "      <th>age</th>\n",
       "      <th>periode</th>\n",
       "      <th>content</th>\n",
       "      <th>buy</th>\n",
       "      <th>recommend</th>\n",
       "      <th>likes</th>\n",
       "    </tr>\n",
       "  </thead>\n",
       "  <tbody>\n",
       "    <tr>\n",
       "      <th>8</th>\n",
       "      <td>oily, light, cool</td>\n",
       "      <td>18 and under</td>\n",
       "      <td>less than 1 week</td>\n",
       "      <td>alhamdulillah cocok. tekstur nya sedikit gel, ...</td>\n",
       "      <td>shopee</td>\n",
       "      <td>NaN</td>\n",
       "      <td>1</td>\n",
       "    </tr>\n",
       "    <tr>\n",
       "      <th>40</th>\n",
       "      <td>combination, medium light, neutral</td>\n",
       "      <td>18 and under</td>\n",
       "      <td>1 month - 3 months</td>\n",
       "      <td>murah banget dan isinya banyak. it do its job ...</td>\n",
       "      <td>shopee</td>\n",
       "      <td>NaN</td>\n",
       "      <td>0</td>\n",
       "    </tr>\n",
       "    <tr>\n",
       "      <th>90</th>\n",
       "      <td>combination, medium light, neutral</td>\n",
       "      <td>18 and under</td>\n",
       "      <td>less than 1 week</td>\n",
       "      <td>lotion ini udah jadi holy grail buat akuâ¡ cu...</td>\n",
       "      <td>shopee</td>\n",
       "      <td>NaN</td>\n",
       "      <td>0</td>\n",
       "    </tr>\n",
       "    <tr>\n",
       "      <th>276</th>\n",
       "      <td>oily, medium light, warm</td>\n",
       "      <td>19 - 24</td>\n",
       "      <td>more than 1 year</td>\n",
       "      <td>kecintaan dari jaman sma dulu, awalnya pake yg...</td>\n",
       "      <td>shopee</td>\n",
       "      <td>NaN</td>\n",
       "      <td>0</td>\n",
       "    </tr>\n",
       "    <tr>\n",
       "      <th>810</th>\n",
       "      <td>dry, medium, warm</td>\n",
       "      <td>19 - 24</td>\n",
       "      <td>3 months - 6 months</td>\n",
       "      <td>dulu aku biasa pakai yg strip ijo muda buat oi...</td>\n",
       "      <td>sami laris cosmetics</td>\n",
       "      <td>NaN</td>\n",
       "      <td>1</td>\n",
       "    </tr>\n",
       "  </tbody>\n",
       "</table>\n",
       "</div>"
      ],
      "text/plain": [
       "                                   skin           age               periode  \\\n",
       "8                     oily, light, cool  18 and under      less than 1 week   \n",
       "40   combination, medium light, neutral  18 and under    1 month - 3 months   \n",
       "90   combination, medium light, neutral  18 and under      less than 1 week   \n",
       "276            oily, medium light, warm       19 - 24      more than 1 year   \n",
       "810                   dry, medium, warm       19 - 24   3 months - 6 months   \n",
       "\n",
       "                                               content                    buy  \\\n",
       "8    alhamdulillah cocok. tekstur nya sedikit gel, ...                 shopee   \n",
       "40   murah banget dan isinya banyak. it do its job ...                 shopee   \n",
       "90   lotion ini udah jadi holy grail buat akuâ¡ cu...                 shopee   \n",
       "276  kecintaan dari jaman sma dulu, awalnya pake yg...                 shopee   \n",
       "810  dulu aku biasa pakai yg strip ijo muda buat oi...   sami laris cosmetics   \n",
       "\n",
       "    recommend  likes  \n",
       "8         NaN      1  \n",
       "40        NaN      0  \n",
       "90        NaN      0  \n",
       "276       NaN      0  \n",
       "810       NaN      1  "
      ]
     },
     "execution_count": 14,
     "metadata": {},
     "output_type": "execute_result"
    }
   ],
   "source": [
    "df[df['recommend'].isnull()]"
   ]
  },
  {
   "cell_type": "code",
   "execution_count": 15,
   "metadata": {
    "collapsed": true
   },
   "outputs": [],
   "source": [
    "df['recommend'] = df['recommend'].fillna(value=' someone recommends this product!')"
   ]
  },
  {
   "cell_type": "code",
   "execution_count": 16,
   "metadata": {},
   "outputs": [
    {
     "data": {
      "text/plain": [
       "False"
      ]
     },
     "execution_count": 16,
     "metadata": {},
     "output_type": "execute_result"
    }
   ],
   "source": [
    "df['recommend'].isnull().any()"
   ]
  },
  {
   "cell_type": "code",
   "execution_count": 66,
   "metadata": {
    "collapsed": true
   },
   "outputs": [],
   "source": [
    "# df['recommend'] = df['recommend'].str.slice_replace(start=-1, repl='')\n",
    "# df['recommend'] = df['recommend'].str.split(n=1).str[1]"
   ]
  },
  {
   "cell_type": "code",
   "execution_count": 46,
   "metadata": {},
   "outputs": [
    {
     "data": {
      "text/html": [
       "<div>\n",
       "<style scoped>\n",
       "    .dataframe tbody tr th:only-of-type {\n",
       "        vertical-align: middle;\n",
       "    }\n",
       "\n",
       "    .dataframe tbody tr th {\n",
       "        vertical-align: top;\n",
       "    }\n",
       "\n",
       "    .dataframe thead th {\n",
       "        text-align: right;\n",
       "    }\n",
       "</style>\n",
       "<table border=\"1\" class=\"dataframe\">\n",
       "  <thead>\n",
       "    <tr style=\"text-align: right;\">\n",
       "      <th></th>\n",
       "      <th>skin</th>\n",
       "      <th>age</th>\n",
       "      <th>periode</th>\n",
       "      <th>content</th>\n",
       "      <th>buy</th>\n",
       "      <th>recommend</th>\n",
       "      <th>likes</th>\n",
       "    </tr>\n",
       "  </thead>\n",
       "  <tbody>\n",
       "    <tr>\n",
       "      <th>0</th>\n",
       "      <td>normal, medium dark, warm</td>\n",
       "      <td>19 - 24</td>\n",
       "      <td>more than 1 year</td>\n",
       "      <td>toner pertamaku dan suka banget. teksturnya ringan dan cair. cukup melembabkan juga. biasanya aku pake beberapa layer. so far cocok dikulit aku. mama juga suka pake. pakenya agak banyakan juga lumayan awet, gak habis habis. udah habis beberapa botol.</td>\n",
       "      <td>transmart</td>\n",
       "      <td>emaliarosyada recommends this product!</td>\n",
       "      <td>0</td>\n",
       "    </tr>\n",
       "    <tr>\n",
       "      <th>1</th>\n",
       "      <td>19 - 24</td>\n",
       "      <td>19 - 24</td>\n",
       "      <td>1 month - 3 months</td>\n",
       "      <td>first time nyoba produk ini yang 30ml dan gak ada efek samping apa pun. jadi karena udah abis, aku beli sekalian yang 100mlnya.teksturnya cair dan gak berbau tajam, friendly for my skin, it soothes and hydrates but not pricey at all. my experience with this product so far so good. recommended!</td>\n",
       "      <td>shopee</td>\n",
       "      <td>nyctophile recommends this product!</td>\n",
       "      <td>0</td>\n",
       "    </tr>\n",
       "    <tr>\n",
       "      <th>2</th>\n",
       "      <td>normal, medium light, neutral</td>\n",
       "      <td>19 - 24</td>\n",
       "      <td>6 months - 1 year</td>\n",
       "      <td>produk ini pernah vital dan jadilah susah untuk ku pengguna lama menemukannya uu teksturnya cair tapi dan tidak berbau sama sekali, cepet meresap dan beneran bikin kulit jadi lembab dan kenyal. pakai ini udah lama banget dia juga bikin wajah jadi cerah dan ternutrisi</td>\n",
       "      <td>transmart</td>\n",
       "      <td>elasaputri13 recommends this product!</td>\n",
       "      <td>0</td>\n",
       "    </tr>\n",
       "    <tr>\n",
       "      <th>3</th>\n",
       "      <td>dry, medium, neutral</td>\n",
       "      <td>19 - 24</td>\n",
       "      <td>more than 1 year</td>\n",
       "      <td>hydrating toner andalan banget udah repurchase beberapa kali dari sebelum pandemi sampe sekarang pake terus. comfort product buat aku banget must try buat yg punya kulit kering bikin lembab kulit muka kitaâ¤ï¸</td>\n",
       "      <td>tokopedia</td>\n",
       "      <td>emmega recommends this product!</td>\n",
       "      <td>0</td>\n",
       "    </tr>\n",
       "    <tr>\n",
       "      <th>4</th>\n",
       "      <td>19 - 24</td>\n",
       "      <td>19 - 24</td>\n",
       "      <td>1 month - 3 months</td>\n",
       "      <td>gacocokkkkk. emang bener jangan ekspektasi kebanyakan sama produk yg hype di orang pasti nanti susah cocoknya di muka kita sendiri ð¹ awal-awalnya lumayan sih ngelembapin juga cuma makin lama dia kaya bikin wajah aku gradakan dan jerawatan? sensitif sih kulit aku jadi mungkin gacocok buat yg sensitif acne prone, aku saranin coba yg premium deh, lebih bagussss</td>\n",
       "      <td>shopee</td>\n",
       "      <td>erikaaaaa0101011 doesn't recommend this product!</td>\n",
       "      <td>0</td>\n",
       "    </tr>\n",
       "  </tbody>\n",
       "</table>\n",
       "</div>"
      ],
      "text/plain": [
       "                            skin      age              periode  \\\n",
       "0      normal, medium dark, warm  19 - 24     more than 1 year   \n",
       "1                        19 - 24  19 - 24   1 month - 3 months   \n",
       "2  normal, medium light, neutral  19 - 24    6 months - 1 year   \n",
       "3           dry, medium, neutral  19 - 24     more than 1 year   \n",
       "4                        19 - 24  19 - 24   1 month - 3 months   \n",
       "\n",
       "                                                                                                                                                                                                                                                                                                                                                                       content  \\\n",
       "0                                                                                                                   toner pertamaku dan suka banget. teksturnya ringan dan cair. cukup melembabkan juga. biasanya aku pake beberapa layer. so far cocok dikulit aku. mama juga suka pake. pakenya agak banyakan juga lumayan awet, gak habis habis. udah habis beberapa botol.   \n",
       "1                                                                      first time nyoba produk ini yang 30ml dan gak ada efek samping apa pun. jadi karena udah abis, aku beli sekalian yang 100mlnya.teksturnya cair dan gak berbau tajam, friendly for my skin, it soothes and hydrates but not pricey at all. my experience with this product so far so good. recommended!    \n",
       "2                                                                                                  produk ini pernah vital dan jadilah susah untuk ku pengguna lama menemukannya uu teksturnya cair tapi dan tidak berbau sama sekali, cepet meresap dan beneran bikin kulit jadi lembab dan kenyal. pakai ini udah lama banget dia juga bikin wajah jadi cerah dan ternutrisi   \n",
       "3                                                                                                                                                          hydrating toner andalan banget udah repurchase beberapa kali dari sebelum pandemi sampe sekarang pake terus. comfort product buat aku banget must try buat yg punya kulit kering bikin lembab kulit muka kitaâ¤ï¸   \n",
       "4  gacocokkkkk. emang bener jangan ekspektasi kebanyakan sama produk yg hype di orang pasti nanti susah cocoknya di muka kita sendiri ð¹ awal-awalnya lumayan sih ngelembapin juga cuma makin lama dia kaya bikin wajah aku gradakan dan jerawatan? sensitif sih kulit aku jadi mungkin gacocok buat yg sensitif acne prone, aku saranin coba yg premium deh, lebih bagussss   \n",
       "\n",
       "          buy                                          recommend  likes  \n",
       "0   transmart             emaliarosyada recommends this product!      0  \n",
       "1      shopee                nyctophile recommends this product!      0  \n",
       "2   transmart              elasaputri13 recommends this product!      0  \n",
       "3   tokopedia                    emmega recommends this product!      0  \n",
       "4      shopee  erikaaaaa0101011 doesn't recommend this product!       0  "
      ]
     },
     "execution_count": 46,
     "metadata": {},
     "output_type": "execute_result"
    }
   ],
   "source": [
    "pd.set_option('display.max_colwidth', 500)\n",
    "df.head()"
   ]
  },
  {
   "cell_type": "code",
   "execution_count": 21,
   "metadata": {
    "collapsed": true
   },
   "outputs": [],
   "source": [
    "df2 = df.copy()"
   ]
  },
  {
   "cell_type": "code",
   "execution_count": 18,
   "metadata": {
    "collapsed": true
   },
   "outputs": [],
   "source": [
    "import re\n",
    "\n",
    "def cleanupcontent(text):\n",
    "    text = text['content']\n",
    "    text = re.sub(r'[^A-Za-z0-9]', ' ', text, flags=re.UNICODE)\n",
    "    return text\n",
    "\n",
    "def cleanuprecommend(text):\n",
    "    text = text['recommend']\n",
    "    text = re.sub(r'!', '', text)\n",
    "    text = re.sub(r\"'\", '', text)\n",
    "    return text\n",
    "\n",
    "def cleanupusername(data):\n",
    "    data = data.str.split(n=1).str[1]\n",
    "    return data"
   ]
  },
  {
   "cell_type": "code",
   "execution_count": 23,
   "metadata": {
    "collapsed": true
   },
   "outputs": [],
   "source": [
    "df2['content'] = df2.apply(cleanupcontent, axis=1)\n",
    "df2['recommend'] = df2.apply(cleanuprecommend, axis=1)\n",
    "df2['recommend'] = cleanupusername(df2['recommend'])"
   ]
  },
  {
   "cell_type": "code",
   "execution_count": 25,
   "metadata": {},
   "outputs": [
    {
     "data": {
      "text/html": [
       "<div>\n",
       "<style scoped>\n",
       "    .dataframe tbody tr th:only-of-type {\n",
       "        vertical-align: middle;\n",
       "    }\n",
       "\n",
       "    .dataframe tbody tr th {\n",
       "        vertical-align: top;\n",
       "    }\n",
       "\n",
       "    .dataframe thead th {\n",
       "        text-align: right;\n",
       "    }\n",
       "</style>\n",
       "<table border=\"1\" class=\"dataframe\">\n",
       "  <thead>\n",
       "    <tr style=\"text-align: right;\">\n",
       "      <th></th>\n",
       "      <th>skin</th>\n",
       "      <th>age</th>\n",
       "      <th>periode</th>\n",
       "      <th>content</th>\n",
       "      <th>buy</th>\n",
       "      <th>recommend</th>\n",
       "      <th>likes</th>\n",
       "    </tr>\n",
       "  </thead>\n",
       "  <tbody>\n",
       "    <tr>\n",
       "      <th>0</th>\n",
       "      <td>oily, medium light, cool</td>\n",
       "      <td>25 - 29</td>\n",
       "      <td>1 month - 3 months</td>\n",
       "      <td>beli ini impulsif aja karena murah lol  walaup...</td>\n",
       "      <td>watson</td>\n",
       "      <td>recommends this product</td>\n",
       "      <td>5</td>\n",
       "    </tr>\n",
       "    <tr>\n",
       "      <th>1</th>\n",
       "      <td>normal, medium dark, warm</td>\n",
       "      <td>19 - 24</td>\n",
       "      <td>more than 1 year</td>\n",
       "      <td>toner pertamaku dan suka banget  teksturnya ri...</td>\n",
       "      <td>transmart</td>\n",
       "      <td>recommends this product</td>\n",
       "      <td>0</td>\n",
       "    </tr>\n",
       "    <tr>\n",
       "      <th>2</th>\n",
       "      <td>19 - 24</td>\n",
       "      <td>19 - 24</td>\n",
       "      <td>1 month - 3 months</td>\n",
       "      <td>first time nyoba produk ini yang 30ml dan gak ...</td>\n",
       "      <td>shopee</td>\n",
       "      <td>recommends this product</td>\n",
       "      <td>0</td>\n",
       "    </tr>\n",
       "    <tr>\n",
       "      <th>3</th>\n",
       "      <td>normal, medium light, neutral</td>\n",
       "      <td>19 - 24</td>\n",
       "      <td>6 months - 1 year</td>\n",
       "      <td>produk ini pernah vital dan jadilah susah untu...</td>\n",
       "      <td>transmart</td>\n",
       "      <td>recommends this product</td>\n",
       "      <td>0</td>\n",
       "    </tr>\n",
       "    <tr>\n",
       "      <th>4</th>\n",
       "      <td>dry, medium, neutral</td>\n",
       "      <td>19 - 24</td>\n",
       "      <td>more than 1 year</td>\n",
       "      <td>hydrating toner andalan banget udah repurchase...</td>\n",
       "      <td>tokopedia</td>\n",
       "      <td>recommends this product</td>\n",
       "      <td>0</td>\n",
       "    </tr>\n",
       "  </tbody>\n",
       "</table>\n",
       "</div>"
      ],
      "text/plain": [
       "                            skin      age              periode  \\\n",
       "0       oily, medium light, cool  25 - 29   1 month - 3 months   \n",
       "1      normal, medium dark, warm  19 - 24     more than 1 year   \n",
       "2                        19 - 24  19 - 24   1 month - 3 months   \n",
       "3  normal, medium light, neutral  19 - 24    6 months - 1 year   \n",
       "4           dry, medium, neutral  19 - 24     more than 1 year   \n",
       "\n",
       "                                             content         buy  \\\n",
       "0  beli ini impulsif aja karena murah lol  walaup...      watson   \n",
       "1  toner pertamaku dan suka banget  teksturnya ri...   transmart   \n",
       "2  first time nyoba produk ini yang 30ml dan gak ...      shopee   \n",
       "3  produk ini pernah vital dan jadilah susah untu...   transmart   \n",
       "4  hydrating toner andalan banget udah repurchase...   tokopedia   \n",
       "\n",
       "                 recommend  likes  \n",
       "0  recommends this product      5  \n",
       "1  recommends this product      0  \n",
       "2  recommends this product      0  \n",
       "3  recommends this product      0  \n",
       "4  recommends this product      0  "
      ]
     },
     "execution_count": 25,
     "metadata": {},
     "output_type": "execute_result"
    }
   ],
   "source": [
    "df2.head()"
   ]
  },
  {
   "cell_type": "code",
   "execution_count": 26,
   "metadata": {
    "collapsed": true
   },
   "outputs": [],
   "source": [
    "df2['recommend'] = df2['recommend'].str.rstrip(' ')\n",
    "df2['buy'] = df2['buy'].str.lstrip(' ')\n",
    "df2['periode'] = df2['periode'].str.lstrip(' ')"
   ]
  },
  {
   "cell_type": "code",
   "execution_count": 27,
   "metadata": {},
   "outputs": [
    {
     "data": {
      "text/html": [
       "<div>\n",
       "<style scoped>\n",
       "    .dataframe tbody tr th:only-of-type {\n",
       "        vertical-align: middle;\n",
       "    }\n",
       "\n",
       "    .dataframe tbody tr th {\n",
       "        vertical-align: top;\n",
       "    }\n",
       "\n",
       "    .dataframe thead th {\n",
       "        text-align: right;\n",
       "    }\n",
       "</style>\n",
       "<table border=\"1\" class=\"dataframe\">\n",
       "  <thead>\n",
       "    <tr style=\"text-align: right;\">\n",
       "      <th></th>\n",
       "      <th>skin</th>\n",
       "      <th>age</th>\n",
       "      <th>periode</th>\n",
       "      <th>content</th>\n",
       "      <th>buy</th>\n",
       "      <th>recommend</th>\n",
       "      <th>likes</th>\n",
       "    </tr>\n",
       "  </thead>\n",
       "  <tbody>\n",
       "    <tr>\n",
       "      <th>5</th>\n",
       "      <td>19 - 24</td>\n",
       "      <td>19 - 24</td>\n",
       "      <td>1 month - 3 months</td>\n",
       "      <td>gacocokkkkk  emang bener jangan ekspektasi keb...</td>\n",
       "      <td>shopee</td>\n",
       "      <td>doesnt recommend this product</td>\n",
       "      <td>0</td>\n",
       "    </tr>\n",
       "    <tr>\n",
       "      <th>20</th>\n",
       "      <td>oily, medium dark, warm</td>\n",
       "      <td>25 - 29</td>\n",
       "      <td>1 month - 3 months</td>\n",
       "      <td>biasanya aku pakai yg varian light lotion  str...</td>\n",
       "      <td>yogya supermarket</td>\n",
       "      <td>doesnt recommend this product</td>\n",
       "      <td>0</td>\n",
       "    </tr>\n",
       "    <tr>\n",
       "      <th>27</th>\n",
       "      <td>combination, medium, neutral</td>\n",
       "      <td>25 - 29</td>\n",
       "      <td>less than 1 week</td>\n",
       "      <td>toner ini biasa banget bekerjanya di mukaku  i...</td>\n",
       "      <td>nyoba punya ade</td>\n",
       "      <td>doesnt recommend this product</td>\n",
       "      <td>0</td>\n",
       "    </tr>\n",
       "    <tr>\n",
       "      <th>72</th>\n",
       "      <td>oily, medium, neutral</td>\n",
       "      <td>19 - 24</td>\n",
       "      <td>3 months - 6 months</td>\n",
       "      <td>kulitku oily tp aku lebih suka yg ini daripads...</td>\n",
       "      <td>shopee</td>\n",
       "      <td>doesnt recommend this product</td>\n",
       "      <td>0</td>\n",
       "    </tr>\n",
       "    <tr>\n",
       "      <th>83</th>\n",
       "      <td>oily, medium dark, neutral</td>\n",
       "      <td>18 and under</td>\n",
       "      <td>1 week - 1 month</td>\n",
       "      <td>sayang bangett padahal berharap lebih sama lot...</td>\n",
       "      <td>tokopedia</td>\n",
       "      <td>doesnt recommend this product</td>\n",
       "      <td>0</td>\n",
       "    </tr>\n",
       "    <tr>\n",
       "      <th>...</th>\n",
       "      <td>...</td>\n",
       "      <td>...</td>\n",
       "      <td>...</td>\n",
       "      <td>...</td>\n",
       "      <td>...</td>\n",
       "      <td>...</td>\n",
       "      <td>...</td>\n",
       "    </tr>\n",
       "    <tr>\n",
       "      <th>909</th>\n",
       "      <td>oily, medium light, cool</td>\n",
       "      <td>18 and under</td>\n",
       "      <td>1 month - 3 months</td>\n",
       "      <td>aku termasuk tim yg gabisa bgt kalo gapake ton...</td>\n",
       "      <td>shopee</td>\n",
       "      <td>doesnt recommend this product</td>\n",
       "      <td>1</td>\n",
       "    </tr>\n",
       "    <tr>\n",
       "      <th>922</th>\n",
       "      <td>oily, medium light, warm</td>\n",
       "      <td>25 - 29</td>\n",
       "      <td>1 month - 3 months</td>\n",
       "      <td>awalnya ragu produk ini bikin minyakan jadi se...</td>\n",
       "      <td>watson</td>\n",
       "      <td>doesnt recommend this product</td>\n",
       "      <td>0</td>\n",
       "    </tr>\n",
       "    <tr>\n",
       "      <th>928</th>\n",
       "      <td>dry, light, warm</td>\n",
       "      <td>19 - 24</td>\n",
       "      <td>1 week - 1 month</td>\n",
       "      <td>namanya  lotion  jadi ku fikir dia teksturnya ...</td>\n",
       "      <td>shopee</td>\n",
       "      <td>doesnt recommend this product</td>\n",
       "      <td>0</td>\n",
       "    </tr>\n",
       "    <tr>\n",
       "      <th>958</th>\n",
       "      <td>normal, light, cool</td>\n",
       "      <td>30 - 34</td>\n",
       "      <td>less than 1 week</td>\n",
       "      <td>lagi2 beli krn reviewnya bagus    di aku malah...</td>\n",
       "      <td>shopee</td>\n",
       "      <td>doesnt recommend this product</td>\n",
       "      <td>0</td>\n",
       "    </tr>\n",
       "    <tr>\n",
       "      <th>974</th>\n",
       "      <td>dry, medium, warm</td>\n",
       "      <td>18 and under</td>\n",
       "      <td>3 months - 6 months</td>\n",
       "      <td>karena teksturnya sedikit thick  jadi aku pake...</td>\n",
       "      <td>shopee</td>\n",
       "      <td>doesnt recommend this product</td>\n",
       "      <td>0</td>\n",
       "    </tr>\n",
       "  </tbody>\n",
       "</table>\n",
       "<p>69 rows × 7 columns</p>\n",
       "</div>"
      ],
      "text/plain": [
       "                             skin           age              periode  \\\n",
       "5                         19 - 24       19 - 24   1 month - 3 months   \n",
       "20        oily, medium dark, warm       25 - 29   1 month - 3 months   \n",
       "27   combination, medium, neutral       25 - 29     less than 1 week   \n",
       "72          oily, medium, neutral       19 - 24  3 months - 6 months   \n",
       "83     oily, medium dark, neutral  18 and under     1 week - 1 month   \n",
       "..                            ...           ...                  ...   \n",
       "909      oily, medium light, cool  18 and under   1 month - 3 months   \n",
       "922      oily, medium light, warm       25 - 29   1 month - 3 months   \n",
       "928              dry, light, warm       19 - 24     1 week - 1 month   \n",
       "958           normal, light, cool       30 - 34     less than 1 week   \n",
       "974             dry, medium, warm  18 and under  3 months - 6 months   \n",
       "\n",
       "                                               content                buy  \\\n",
       "5    gacocokkkkk  emang bener jangan ekspektasi keb...             shopee   \n",
       "20   biasanya aku pakai yg varian light lotion  str...  yogya supermarket   \n",
       "27   toner ini biasa banget bekerjanya di mukaku  i...    nyoba punya ade   \n",
       "72   kulitku oily tp aku lebih suka yg ini daripads...             shopee   \n",
       "83   sayang bangett padahal berharap lebih sama lot...          tokopedia   \n",
       "..                                                 ...                ...   \n",
       "909  aku termasuk tim yg gabisa bgt kalo gapake ton...             shopee   \n",
       "922  awalnya ragu produk ini bikin minyakan jadi se...             watson   \n",
       "928  namanya  lotion  jadi ku fikir dia teksturnya ...             shopee   \n",
       "958  lagi2 beli krn reviewnya bagus    di aku malah...             shopee   \n",
       "974  karena teksturnya sedikit thick  jadi aku pake...             shopee   \n",
       "\n",
       "                         recommend  likes  \n",
       "5    doesnt recommend this product      0  \n",
       "20   doesnt recommend this product      0  \n",
       "27   doesnt recommend this product      0  \n",
       "72   doesnt recommend this product      0  \n",
       "83   doesnt recommend this product      0  \n",
       "..                             ...    ...  \n",
       "909  doesnt recommend this product      1  \n",
       "922  doesnt recommend this product      0  \n",
       "928  doesnt recommend this product      0  \n",
       "958  doesnt recommend this product      0  \n",
       "974  doesnt recommend this product      0  \n",
       "\n",
       "[69 rows x 7 columns]"
      ]
     },
     "execution_count": 27,
     "metadata": {},
     "output_type": "execute_result"
    }
   ],
   "source": [
    "df2.loc[df2['recommend'] == 'doesnt recommend this product']"
   ]
  },
  {
   "cell_type": "code",
   "execution_count": 81,
   "metadata": {},
   "outputs": [
    {
     "data": {
      "text/plain": [
       "skin\n",
       "18 and under                           3\n",
       "19 - 24                                4\n",
       "combination, dark, warm                1\n",
       "combination, light, cool               3\n",
       "combination, light, neutral           17\n",
       "combination, light, warm               2\n",
       "combination, medium dark, cool         2\n",
       "combination, medium dark, neutral     10\n",
       "combination, medium dark, warm        16\n",
       "combination, medium light, cool       10\n",
       "combination, medium light, neutral    53\n",
       "combination, medium light, warm       11\n",
       "combination, medium, cool              3\n",
       "combination, medium, neutral          57\n",
       "combination, medium, warm             39\n",
       "dry, dark, neutral                     1\n",
       "dry, light, cool                       3\n",
       "dry, light, neutral                    3\n",
       "dry, light, warm                       3\n",
       "dry, medium dark, cool                 1\n",
       "dry, medium dark, neutral              5\n",
       "dry, medium dark, warm                 4\n",
       "dry, medium light, cool                3\n",
       "dry, medium light, neutral            24\n",
       "dry, medium light, warm                9\n",
       "dry, medium, neutral                  30\n",
       "dry, medium, warm                     12\n",
       "normal, light, cool                    2\n",
       "normal, medium dark, cool              1\n",
       "normal, medium dark, neutral           3\n",
       "normal, medium dark, warm              3\n",
       "normal, medium light, cool             4\n",
       "normal, medium light, neutral         11\n",
       "normal, medium light, warm            10\n",
       "normal, medium, cool                   1\n",
       "normal, medium, neutral               10\n",
       "normal, medium, warm                   6\n",
       "oily, dark, warm                       2\n",
       "oily, light, cool                      5\n",
       "oily, light, neutral                   4\n",
       "oily, light, warm                      1\n",
       "oily, medium dark, neutral             3\n",
       "oily, medium dark, warm                4\n",
       "oily, medium light, cool               3\n",
       "oily, medium light, neutral           25\n",
       "oily, medium light, warm               8\n",
       "oily, medium, cool                     2\n",
       "oily, medium, neutral                 20\n",
       "oily, medium, warm                    13\n",
       "dtype: int64"
      ]
     },
     "execution_count": 81,
     "metadata": {},
     "output_type": "execute_result"
    }
   ],
   "source": [
    "df2.groupby('skin').size()"
   ]
  },
  {
   "cell_type": "code",
   "execution_count": 30,
   "metadata": {
    "collapsed": true
   },
   "outputs": [],
   "source": [
    "pd.set_option('display.max_colwidth', 500)"
   ]
  },
  {
   "cell_type": "code",
   "execution_count": 31,
   "metadata": {},
   "outputs": [
    {
     "data": {
      "text/html": [
       "<div>\n",
       "<style scoped>\n",
       "    .dataframe tbody tr th:only-of-type {\n",
       "        vertical-align: middle;\n",
       "    }\n",
       "\n",
       "    .dataframe tbody tr th {\n",
       "        vertical-align: top;\n",
       "    }\n",
       "\n",
       "    .dataframe thead th {\n",
       "        text-align: right;\n",
       "    }\n",
       "</style>\n",
       "<table border=\"1\" class=\"dataframe\">\n",
       "  <thead>\n",
       "    <tr style=\"text-align: right;\">\n",
       "      <th></th>\n",
       "      <th>skin</th>\n",
       "      <th>age</th>\n",
       "      <th>periode</th>\n",
       "      <th>content</th>\n",
       "      <th>buy</th>\n",
       "      <th>recommend</th>\n",
       "      <th>likes</th>\n",
       "    </tr>\n",
       "  </thead>\n",
       "  <tbody>\n",
       "    <tr>\n",
       "      <th>2</th>\n",
       "      <td>19 - 24</td>\n",
       "      <td>19 - 24</td>\n",
       "      <td>1 month - 3 months</td>\n",
       "      <td>first time nyoba produk ini yang 30ml dan gak ada efek samping apa pun  jadi karena udah abis  aku beli sekalian yang 100mlnya teksturnya cair dan gak berbau tajam  friendly for my skin  it soothes and hydrates but not pricey at all  my experience with this product so far so good  recommended</td>\n",
       "      <td>shopee</td>\n",
       "      <td>recommends this product</td>\n",
       "      <td>0</td>\n",
       "    </tr>\n",
       "    <tr>\n",
       "      <th>5</th>\n",
       "      <td>19 - 24</td>\n",
       "      <td>19 - 24</td>\n",
       "      <td>1 month - 3 months</td>\n",
       "      <td>gacocokkkkk  emang bener jangan ekspektasi kebanyakan sama produk yg hype di orang pasti nanti susah cocoknya di muka kita sendiri      awal awalnya lumayan sih ngelembapin juga cuma makin lama dia kaya bikin wajah aku gradakan dan jerawatan  sensitif sih kulit aku jadi mungkin gacocok buat yg sensitif acne prone  aku saranin coba yg premium deh  lebih bagussss</td>\n",
       "      <td>shopee</td>\n",
       "      <td>doesnt recommend this product</td>\n",
       "      <td>0</td>\n",
       "    </tr>\n",
       "    <tr>\n",
       "      <th>169</th>\n",
       "      <td>19 - 24</td>\n",
       "      <td>19 - 24</td>\n",
       "      <td>3 months - 6 months</td>\n",
       "      <td>udah cinta banget sama skincare satu ini hehee  kulitku termasuk kombinasi  acne prone  agak sensitif  sebelumnya pipi jidat bruntusan  tp setelah pake ini alhamdulillah bruntusan berkurang bangettt  malah yg di pipi dah hampir ilang semua hihii  pastinya juga menghidrasi kulit dengan baik  pokoknya suka banget   recommended</td>\n",
       "      <td>shopee</td>\n",
       "      <td>recommends this product</td>\n",
       "      <td>0</td>\n",
       "    </tr>\n",
       "    <tr>\n",
       "      <th>220</th>\n",
       "      <td>19 - 24</td>\n",
       "      <td>19 - 24</td>\n",
       "      <td>1 month - 3 months</td>\n",
       "      <td>hydrating toner pertamaku  untung sempet baca baca sebelum beli kalau nggak  mungkin bakal ngira ini moisturizer  teksturnya agak kental tapi mudah menyerap  untuk di wajahku produk ini nggak terlalu ngehydrate tapi masi oke  harganya juga sangat ramah di kantong</td>\n",
       "      <td>shopee</td>\n",
       "      <td>recommends this product</td>\n",
       "      <td>0</td>\n",
       "    </tr>\n",
       "    <tr>\n",
       "      <th>797</th>\n",
       "      <td>19 - 24</td>\n",
       "      <td>19 - 24</td>\n",
       "      <td>more than 1 year</td>\n",
       "      <td>awal nyoba karena pada bilang bagus di tiktok salah beli buat muka kering padahal mukaku oily but diaku work malah bagus bgt muka agak cerahan dan aku tertarik bgt karena alcohol dan parfume free jd gentle buat kulit tp akhirnya aku ganti jd strip ijo</td>\n",
       "      <td>shopee</td>\n",
       "      <td>recommends this product</td>\n",
       "      <td>1</td>\n",
       "    </tr>\n",
       "  </tbody>\n",
       "</table>\n",
       "</div>"
      ],
      "text/plain": [
       "        skin      age              periode  \\\n",
       "2    19 - 24  19 - 24   1 month - 3 months   \n",
       "5    19 - 24  19 - 24   1 month - 3 months   \n",
       "169  19 - 24  19 - 24  3 months - 6 months   \n",
       "220  19 - 24  19 - 24   1 month - 3 months   \n",
       "797  19 - 24  19 - 24     more than 1 year   \n",
       "\n",
       "                                                                                                                                                                                                                                                                                                                                                                         content  \\\n",
       "2                                                                        first time nyoba produk ini yang 30ml dan gak ada efek samping apa pun  jadi karena udah abis  aku beli sekalian yang 100mlnya teksturnya cair dan gak berbau tajam  friendly for my skin  it soothes and hydrates but not pricey at all  my experience with this product so far so good  recommended     \n",
       "5    gacocokkkkk  emang bener jangan ekspektasi kebanyakan sama produk yg hype di orang pasti nanti susah cocoknya di muka kita sendiri      awal awalnya lumayan sih ngelembapin juga cuma makin lama dia kaya bikin wajah aku gradakan dan jerawatan  sensitif sih kulit aku jadi mungkin gacocok buat yg sensitif acne prone  aku saranin coba yg premium deh  lebih bagussss   \n",
       "169                                udah cinta banget sama skincare satu ini hehee  kulitku termasuk kombinasi  acne prone  agak sensitif  sebelumnya pipi jidat bruntusan  tp setelah pake ini alhamdulillah bruntusan berkurang bangettt  malah yg di pipi dah hampir ilang semua hihii  pastinya juga menghidrasi kulit dengan baik  pokoknya suka banget   recommended          \n",
       "220                                                                                                     hydrating toner pertamaku  untung sempet baca baca sebelum beli kalau nggak  mungkin bakal ngira ini moisturizer  teksturnya agak kental tapi mudah menyerap  untuk di wajahku produk ini nggak terlalu ngehydrate tapi masi oke  harganya juga sangat ramah di kantong    \n",
       "797                                                                                                                  awal nyoba karena pada bilang bagus di tiktok salah beli buat muka kering padahal mukaku oily but diaku work malah bagus bgt muka agak cerahan dan aku tertarik bgt karena alcohol dan parfume free jd gentle buat kulit tp akhirnya aku ganti jd strip ijo   \n",
       "\n",
       "        buy                      recommend  likes  \n",
       "2    shopee        recommends this product      0  \n",
       "5    shopee  doesnt recommend this product      0  \n",
       "169  shopee        recommends this product      0  \n",
       "220  shopee        recommends this product      0  \n",
       "797  shopee        recommends this product      1  "
      ]
     },
     "execution_count": 31,
     "metadata": {},
     "output_type": "execute_result"
    }
   ],
   "source": [
    "df2.loc[df2['skin'] == '19 - 24']"
   ]
  },
  {
   "cell_type": "code",
   "execution_count": 32,
   "metadata": {},
   "outputs": [
    {
     "data": {
      "text/html": [
       "<div>\n",
       "<style scoped>\n",
       "    .dataframe tbody tr th:only-of-type {\n",
       "        vertical-align: middle;\n",
       "    }\n",
       "\n",
       "    .dataframe tbody tr th {\n",
       "        vertical-align: top;\n",
       "    }\n",
       "\n",
       "    .dataframe thead th {\n",
       "        text-align: right;\n",
       "    }\n",
       "</style>\n",
       "<table border=\"1\" class=\"dataframe\">\n",
       "  <thead>\n",
       "    <tr style=\"text-align: right;\">\n",
       "      <th></th>\n",
       "      <th>skin</th>\n",
       "      <th>age</th>\n",
       "      <th>periode</th>\n",
       "      <th>content</th>\n",
       "      <th>buy</th>\n",
       "      <th>recommend</th>\n",
       "      <th>likes</th>\n",
       "    </tr>\n",
       "  </thead>\n",
       "  <tbody>\n",
       "    <tr>\n",
       "      <th>31</th>\n",
       "      <td>18 and under</td>\n",
       "      <td>18 and under</td>\n",
       "      <td>less than 1 week</td>\n",
       "      <td>kulit type yang sensitif udh gontai ganti toner tpi ini menurut ku yg terbaik  aku punya sedikit beruntusan di jidat tpi berangsur membaik berkat produk ini kulit ku jadi makin alus dan sekarang aku jiga nyoba produk hada labo lainnya harganya cukup terjangkau bgt buat pelajar kya aku</td>\n",
       "      <td>shopee</td>\n",
       "      <td>recommends this product</td>\n",
       "      <td>1</td>\n",
       "    </tr>\n",
       "    <tr>\n",
       "      <th>274</th>\n",
       "      <td>18 and under</td>\n",
       "      <td>18 and under</td>\n",
       "      <td>6 months - 1 year</td>\n",
       "      <td>beli ini sama fwnya yang aha bha harganya bagi remaja pelajar kek aku mahal si kalo bagi yang udah kerja standard menurutku enak si lengket gitu dimuka aku rada perih gaada baunya sama sekali isinya lumayan banyak kalo bagi aku gacocok si</td>\n",
       "      <td>lazada</td>\n",
       "      <td>doesnt recommend this product</td>\n",
       "      <td>0</td>\n",
       "    </tr>\n",
       "    <tr>\n",
       "      <th>479</th>\n",
       "      <td>18 and under</td>\n",
       "      <td>18 and under</td>\n",
       "      <td>less than 1 week</td>\n",
       "      <td>pertama nyoba yg ukuran 30 ml   udah tau sih kalo hadalabo tuh bagus bgt   pertama kali aku pakai produk ini lgsng jatuh cinta  bagusssbangetttt          pengen nangiss akhirnya dapet moisturizer yg emang bener   mantul bgt   dia itu ngelembabin bangett   dan dia itu gak bikin kulit jadi pliket gitu  malah aku ngerasa kulit halus  dan sejuk bagusss  kulit juga lebih halus terus glowi gitu lhooo  recommended nanti rencananya kalo udah habis mau beli lagi dan stok yg banyak hhh</td>\n",
       "      <td>shopee</td>\n",
       "      <td>recommends this product</td>\n",
       "      <td>0</td>\n",
       "    </tr>\n",
       "    <tr>\n",
       "      <th>794</th>\n",
       "      <td>18 and under</td>\n",
       "      <td>18 and under</td>\n",
       "      <td>1 week - 1 month</td>\n",
       "      <td>ahh aku kira dia beneran bisa nolongin muka aku yang lagi kering karena di klaim untuk kulit dry to normal eh ternyata ga sama sekali dia bkin lembab tapi pas di diemin kelama lamaan malah jadi kering dong aaaa akhirnya aku tidak ingin beli lagi dan masih ada di rumah dan ga kepake jadinya</td>\n",
       "      <td>shopee</td>\n",
       "      <td>doesnt recommend this product</td>\n",
       "      <td>0</td>\n",
       "    </tr>\n",
       "    <tr>\n",
       "      <th>885</th>\n",
       "      <td>18 and under</td>\n",
       "      <td>18 and under</td>\n",
       "      <td>1 month - 3 months</td>\n",
       "      <td>ngelembapin kek    wow oemji omayno      pas dipake emg aga sedikit lengket awalny    awalny doang gaiiss pas udh ditunggu 1 3 menit untuk memaksimalkan dia menyerap tu bener bener lembal ga lengket ga berat ringan bnget super duper recommend buat kalian yang lgi nyari toner untuk pemula</td>\n",
       "      <td>shopee</td>\n",
       "      <td>recommends this product</td>\n",
       "      <td>0</td>\n",
       "    </tr>\n",
       "  </tbody>\n",
       "</table>\n",
       "</div>"
      ],
      "text/plain": [
       "             skin           age             periode  \\\n",
       "31   18 and under  18 and under    less than 1 week   \n",
       "274  18 and under  18 and under   6 months - 1 year   \n",
       "479  18 and under  18 and under    less than 1 week   \n",
       "794  18 and under  18 and under    1 week - 1 month   \n",
       "885  18 and under  18 and under  1 month - 3 months   \n",
       "\n",
       "                                                                                                                                                                                                                                                                                                                                                                                                                                                                                              content  \\\n",
       "31                                                                                                                                                                                                      kulit type yang sensitif udh gontai ganti toner tpi ini menurut ku yg terbaik  aku punya sedikit beruntusan di jidat tpi berangsur membaik berkat produk ini kulit ku jadi makin alus dan sekarang aku jiga nyoba produk hada labo lainnya harganya cukup terjangkau bgt buat pelajar kya aku   \n",
       "274                                                                                                                                                                                                                                                    beli ini sama fwnya yang aha bha harganya bagi remaja pelajar kek aku mahal si kalo bagi yang udah kerja standard menurutku enak si lengket gitu dimuka aku rada perih gaada baunya sama sekali isinya lumayan banyak kalo bagi aku gacocok si   \n",
       "479  pertama nyoba yg ukuran 30 ml   udah tau sih kalo hadalabo tuh bagus bgt   pertama kali aku pakai produk ini lgsng jatuh cinta  bagusssbangetttt          pengen nangiss akhirnya dapet moisturizer yg emang bener   mantul bgt   dia itu ngelembabin bangett   dan dia itu gak bikin kulit jadi pliket gitu  malah aku ngerasa kulit halus  dan sejuk bagusss  kulit juga lebih halus terus glowi gitu lhooo  recommended nanti rencananya kalo udah habis mau beli lagi dan stok yg banyak hhh   \n",
       "794                                                                                                                                                                                                ahh aku kira dia beneran bisa nolongin muka aku yang lagi kering karena di klaim untuk kulit dry to normal eh ternyata ga sama sekali dia bkin lembab tapi pas di diemin kelama lamaan malah jadi kering dong aaaa akhirnya aku tidak ingin beli lagi dan masih ada di rumah dan ga kepake jadinya   \n",
       "885                                                                                                                                                                                        ngelembapin kek    wow oemji omayno      pas dipake emg aga sedikit lengket awalny    awalny doang gaiiss pas udh ditunggu 1 3 menit untuk memaksimalkan dia menyerap tu bener bener lembal ga lengket ga berat ringan bnget super duper recommend buat kalian yang lgi nyari toner untuk pemula             \n",
       "\n",
       "        buy                      recommend  likes  \n",
       "31   shopee        recommends this product      1  \n",
       "274  lazada  doesnt recommend this product      0  \n",
       "479  shopee        recommends this product      0  \n",
       "794  shopee  doesnt recommend this product      0  \n",
       "885  shopee        recommends this product      0  "
      ]
     },
     "execution_count": 32,
     "metadata": {},
     "output_type": "execute_result"
    }
   ],
   "source": [
    "df2.loc[df['skin'] == '18 and under']"
   ]
  },
  {
   "cell_type": "code",
   "execution_count": 33,
   "metadata": {
    "collapsed": true
   },
   "outputs": [],
   "source": [
    "df2.loc[[2, 5, 31, 169, 220, 274, 479, 885], ['skin']] = 'combination, medium, neutral'\n",
    "df2.loc[[797], ['skin']] = 'oily, medium, neutral'\n",
    "df2.loc[[794], ['skin']] = 'dry, medium, neutral'"
   ]
  },
  {
   "cell_type": "code",
   "execution_count": 34,
   "metadata": {},
   "outputs": [
    {
     "data": {
      "text/html": [
       "<div>\n",
       "<style scoped>\n",
       "    .dataframe tbody tr th:only-of-type {\n",
       "        vertical-align: middle;\n",
       "    }\n",
       "\n",
       "    .dataframe tbody tr th {\n",
       "        vertical-align: top;\n",
       "    }\n",
       "\n",
       "    .dataframe thead th {\n",
       "        text-align: right;\n",
       "    }\n",
       "</style>\n",
       "<table border=\"1\" class=\"dataframe\">\n",
       "  <thead>\n",
       "    <tr style=\"text-align: right;\">\n",
       "      <th></th>\n",
       "      <th>skin</th>\n",
       "      <th>age</th>\n",
       "      <th>periode</th>\n",
       "      <th>content</th>\n",
       "      <th>buy</th>\n",
       "      <th>recommend</th>\n",
       "      <th>likes</th>\n",
       "    </tr>\n",
       "  </thead>\n",
       "  <tbody>\n",
       "    <tr>\n",
       "      <th>2</th>\n",
       "      <td>combination, medium, neutral</td>\n",
       "      <td>19 - 24</td>\n",
       "      <td>1 month - 3 months</td>\n",
       "      <td>first time nyoba produk ini yang 30ml dan gak ada efek samping apa pun  jadi karena udah abis  aku beli sekalian yang 100mlnya teksturnya cair dan gak berbau tajam  friendly for my skin  it soothes and hydrates but not pricey at all  my experience with this product so far so good  recommended</td>\n",
       "      <td>shopee</td>\n",
       "      <td>recommends this product</td>\n",
       "      <td>0</td>\n",
       "    </tr>\n",
       "    <tr>\n",
       "      <th>5</th>\n",
       "      <td>combination, medium, neutral</td>\n",
       "      <td>19 - 24</td>\n",
       "      <td>1 month - 3 months</td>\n",
       "      <td>gacocokkkkk  emang bener jangan ekspektasi kebanyakan sama produk yg hype di orang pasti nanti susah cocoknya di muka kita sendiri      awal awalnya lumayan sih ngelembapin juga cuma makin lama dia kaya bikin wajah aku gradakan dan jerawatan  sensitif sih kulit aku jadi mungkin gacocok buat yg sensitif acne prone  aku saranin coba yg premium deh  lebih bagussss</td>\n",
       "      <td>shopee</td>\n",
       "      <td>doesnt recommend this product</td>\n",
       "      <td>0</td>\n",
       "    </tr>\n",
       "    <tr>\n",
       "      <th>31</th>\n",
       "      <td>combination, medium, neutral</td>\n",
       "      <td>18 and under</td>\n",
       "      <td>less than 1 week</td>\n",
       "      <td>kulit type yang sensitif udh gontai ganti toner tpi ini menurut ku yg terbaik  aku punya sedikit beruntusan di jidat tpi berangsur membaik berkat produk ini kulit ku jadi makin alus dan sekarang aku jiga nyoba produk hada labo lainnya harganya cukup terjangkau bgt buat pelajar kya aku</td>\n",
       "      <td>shopee</td>\n",
       "      <td>recommends this product</td>\n",
       "      <td>1</td>\n",
       "    </tr>\n",
       "    <tr>\n",
       "      <th>169</th>\n",
       "      <td>combination, medium, neutral</td>\n",
       "      <td>19 - 24</td>\n",
       "      <td>3 months - 6 months</td>\n",
       "      <td>udah cinta banget sama skincare satu ini hehee  kulitku termasuk kombinasi  acne prone  agak sensitif  sebelumnya pipi jidat bruntusan  tp setelah pake ini alhamdulillah bruntusan berkurang bangettt  malah yg di pipi dah hampir ilang semua hihii  pastinya juga menghidrasi kulit dengan baik  pokoknya suka banget   recommended</td>\n",
       "      <td>shopee</td>\n",
       "      <td>recommends this product</td>\n",
       "      <td>0</td>\n",
       "    </tr>\n",
       "    <tr>\n",
       "      <th>220</th>\n",
       "      <td>combination, medium, neutral</td>\n",
       "      <td>19 - 24</td>\n",
       "      <td>1 month - 3 months</td>\n",
       "      <td>hydrating toner pertamaku  untung sempet baca baca sebelum beli kalau nggak  mungkin bakal ngira ini moisturizer  teksturnya agak kental tapi mudah menyerap  untuk di wajahku produk ini nggak terlalu ngehydrate tapi masi oke  harganya juga sangat ramah di kantong</td>\n",
       "      <td>shopee</td>\n",
       "      <td>recommends this product</td>\n",
       "      <td>0</td>\n",
       "    </tr>\n",
       "    <tr>\n",
       "      <th>274</th>\n",
       "      <td>combination, medium, neutral</td>\n",
       "      <td>18 and under</td>\n",
       "      <td>6 months - 1 year</td>\n",
       "      <td>beli ini sama fwnya yang aha bha harganya bagi remaja pelajar kek aku mahal si kalo bagi yang udah kerja standard menurutku enak si lengket gitu dimuka aku rada perih gaada baunya sama sekali isinya lumayan banyak kalo bagi aku gacocok si</td>\n",
       "      <td>lazada</td>\n",
       "      <td>doesnt recommend this product</td>\n",
       "      <td>0</td>\n",
       "    </tr>\n",
       "    <tr>\n",
       "      <th>479</th>\n",
       "      <td>combination, medium, neutral</td>\n",
       "      <td>18 and under</td>\n",
       "      <td>less than 1 week</td>\n",
       "      <td>pertama nyoba yg ukuran 30 ml   udah tau sih kalo hadalabo tuh bagus bgt   pertama kali aku pakai produk ini lgsng jatuh cinta  bagusssbangetttt          pengen nangiss akhirnya dapet moisturizer yg emang bener   mantul bgt   dia itu ngelembabin bangett   dan dia itu gak bikin kulit jadi pliket gitu  malah aku ngerasa kulit halus  dan sejuk bagusss  kulit juga lebih halus terus glowi gitu lhooo  recommended nanti rencananya kalo udah habis mau beli lagi dan stok yg banyak hhh</td>\n",
       "      <td>shopee</td>\n",
       "      <td>recommends this product</td>\n",
       "      <td>0</td>\n",
       "    </tr>\n",
       "    <tr>\n",
       "      <th>885</th>\n",
       "      <td>combination, medium, neutral</td>\n",
       "      <td>18 and under</td>\n",
       "      <td>1 month - 3 months</td>\n",
       "      <td>ngelembapin kek    wow oemji omayno      pas dipake emg aga sedikit lengket awalny    awalny doang gaiiss pas udh ditunggu 1 3 menit untuk memaksimalkan dia menyerap tu bener bener lembal ga lengket ga berat ringan bnget super duper recommend buat kalian yang lgi nyari toner untuk pemula</td>\n",
       "      <td>shopee</td>\n",
       "      <td>recommends this product</td>\n",
       "      <td>0</td>\n",
       "    </tr>\n",
       "    <tr>\n",
       "      <th>797</th>\n",
       "      <td>oily, medium, neutral</td>\n",
       "      <td>19 - 24</td>\n",
       "      <td>more than 1 year</td>\n",
       "      <td>awal nyoba karena pada bilang bagus di tiktok salah beli buat muka kering padahal mukaku oily but diaku work malah bagus bgt muka agak cerahan dan aku tertarik bgt karena alcohol dan parfume free jd gentle buat kulit tp akhirnya aku ganti jd strip ijo</td>\n",
       "      <td>shopee</td>\n",
       "      <td>recommends this product</td>\n",
       "      <td>1</td>\n",
       "    </tr>\n",
       "    <tr>\n",
       "      <th>794</th>\n",
       "      <td>dry, medium, neutral</td>\n",
       "      <td>18 and under</td>\n",
       "      <td>1 week - 1 month</td>\n",
       "      <td>ahh aku kira dia beneran bisa nolongin muka aku yang lagi kering karena di klaim untuk kulit dry to normal eh ternyata ga sama sekali dia bkin lembab tapi pas di diemin kelama lamaan malah jadi kering dong aaaa akhirnya aku tidak ingin beli lagi dan masih ada di rumah dan ga kepake jadinya</td>\n",
       "      <td>shopee</td>\n",
       "      <td>doesnt recommend this product</td>\n",
       "      <td>0</td>\n",
       "    </tr>\n",
       "  </tbody>\n",
       "</table>\n",
       "</div>"
      ],
      "text/plain": [
       "                             skin           age              periode  \\\n",
       "2    combination, medium, neutral       19 - 24   1 month - 3 months   \n",
       "5    combination, medium, neutral       19 - 24   1 month - 3 months   \n",
       "31   combination, medium, neutral  18 and under     less than 1 week   \n",
       "169  combination, medium, neutral       19 - 24  3 months - 6 months   \n",
       "220  combination, medium, neutral       19 - 24   1 month - 3 months   \n",
       "274  combination, medium, neutral  18 and under    6 months - 1 year   \n",
       "479  combination, medium, neutral  18 and under     less than 1 week   \n",
       "885  combination, medium, neutral  18 and under   1 month - 3 months   \n",
       "797         oily, medium, neutral       19 - 24     more than 1 year   \n",
       "794          dry, medium, neutral  18 and under     1 week - 1 month   \n",
       "\n",
       "                                                                                                                                                                                                                                                                                                                                                                                                                                                                                              content  \\\n",
       "2                                                                                                                                                                                             first time nyoba produk ini yang 30ml dan gak ada efek samping apa pun  jadi karena udah abis  aku beli sekalian yang 100mlnya teksturnya cair dan gak berbau tajam  friendly for my skin  it soothes and hydrates but not pricey at all  my experience with this product so far so good  recommended     \n",
       "5                                                                                                                         gacocokkkkk  emang bener jangan ekspektasi kebanyakan sama produk yg hype di orang pasti nanti susah cocoknya di muka kita sendiri      awal awalnya lumayan sih ngelembapin juga cuma makin lama dia kaya bikin wajah aku gradakan dan jerawatan  sensitif sih kulit aku jadi mungkin gacocok buat yg sensitif acne prone  aku saranin coba yg premium deh  lebih bagussss   \n",
       "31                                                                                                                                                                                                      kulit type yang sensitif udh gontai ganti toner tpi ini menurut ku yg terbaik  aku punya sedikit beruntusan di jidat tpi berangsur membaik berkat produk ini kulit ku jadi makin alus dan sekarang aku jiga nyoba produk hada labo lainnya harganya cukup terjangkau bgt buat pelajar kya aku   \n",
       "169                                                                                                                                                     udah cinta banget sama skincare satu ini hehee  kulitku termasuk kombinasi  acne prone  agak sensitif  sebelumnya pipi jidat bruntusan  tp setelah pake ini alhamdulillah bruntusan berkurang bangettt  malah yg di pipi dah hampir ilang semua hihii  pastinya juga menghidrasi kulit dengan baik  pokoknya suka banget   recommended          \n",
       "220                                                                                                                                                                                                                          hydrating toner pertamaku  untung sempet baca baca sebelum beli kalau nggak  mungkin bakal ngira ini moisturizer  teksturnya agak kental tapi mudah menyerap  untuk di wajahku produk ini nggak terlalu ngehydrate tapi masi oke  harganya juga sangat ramah di kantong    \n",
       "274                                                                                                                                                                                                                                                    beli ini sama fwnya yang aha bha harganya bagi remaja pelajar kek aku mahal si kalo bagi yang udah kerja standard menurutku enak si lengket gitu dimuka aku rada perih gaada baunya sama sekali isinya lumayan banyak kalo bagi aku gacocok si   \n",
       "479  pertama nyoba yg ukuran 30 ml   udah tau sih kalo hadalabo tuh bagus bgt   pertama kali aku pakai produk ini lgsng jatuh cinta  bagusssbangetttt          pengen nangiss akhirnya dapet moisturizer yg emang bener   mantul bgt   dia itu ngelembabin bangett   dan dia itu gak bikin kulit jadi pliket gitu  malah aku ngerasa kulit halus  dan sejuk bagusss  kulit juga lebih halus terus glowi gitu lhooo  recommended nanti rencananya kalo udah habis mau beli lagi dan stok yg banyak hhh   \n",
       "885                                                                                                                                                                                        ngelembapin kek    wow oemji omayno      pas dipake emg aga sedikit lengket awalny    awalny doang gaiiss pas udh ditunggu 1 3 menit untuk memaksimalkan dia menyerap tu bener bener lembal ga lengket ga berat ringan bnget super duper recommend buat kalian yang lgi nyari toner untuk pemula             \n",
       "797                                                                                                                                                                                                                                       awal nyoba karena pada bilang bagus di tiktok salah beli buat muka kering padahal mukaku oily but diaku work malah bagus bgt muka agak cerahan dan aku tertarik bgt karena alcohol dan parfume free jd gentle buat kulit tp akhirnya aku ganti jd strip ijo   \n",
       "794                                                                                                                                                                                                ahh aku kira dia beneran bisa nolongin muka aku yang lagi kering karena di klaim untuk kulit dry to normal eh ternyata ga sama sekali dia bkin lembab tapi pas di diemin kelama lamaan malah jadi kering dong aaaa akhirnya aku tidak ingin beli lagi dan masih ada di rumah dan ga kepake jadinya   \n",
       "\n",
       "        buy                      recommend  likes  \n",
       "2    shopee        recommends this product      0  \n",
       "5    shopee  doesnt recommend this product      0  \n",
       "31   shopee        recommends this product      1  \n",
       "169  shopee        recommends this product      0  \n",
       "220  shopee        recommends this product      0  \n",
       "274  lazada  doesnt recommend this product      0  \n",
       "479  shopee        recommends this product      0  \n",
       "885  shopee        recommends this product      0  \n",
       "797  shopee        recommends this product      1  \n",
       "794  shopee  doesnt recommend this product      0  "
      ]
     },
     "execution_count": 34,
     "metadata": {},
     "output_type": "execute_result"
    }
   ],
   "source": [
    "df2.loc[[2, 5, 31, 169, 220, 274, 479, 885, 797, 794]]"
   ]
  },
  {
   "cell_type": "code",
   "execution_count": 35,
   "metadata": {},
   "outputs": [
    {
     "data": {
      "text/plain": [
       "age\n",
       "18 and under                          217\n",
       "19 - 24                               543\n",
       "25 - 29                               170\n",
       "30 - 34                                42\n",
       "35 - 39                                12\n",
       "40 - 44                                 1\n",
       "45 and above                            1\n",
       "combination, medium light, neutral      2\n",
       "combination, medium, warm               1\n",
       "dry, medium dark, warm                  1\n",
       "dtype: int64"
      ]
     },
     "execution_count": 35,
     "metadata": {},
     "output_type": "execute_result"
    }
   ],
   "source": [
    "df2.groupby('age').size()"
   ]
  },
  {
   "cell_type": "code",
   "execution_count": 36,
   "metadata": {},
   "outputs": [
    {
     "data": {
      "text/plain": [
       "7.0"
      ]
     },
     "execution_count": 36,
     "metadata": {},
     "output_type": "execute_result"
    }
   ],
   "source": [
    "df2.groupby('age').size().median()"
   ]
  },
  {
   "cell_type": "code",
   "execution_count": 37,
   "metadata": {},
   "outputs": [
    {
     "data": {
      "text/html": [
       "<div>\n",
       "<style scoped>\n",
       "    .dataframe tbody tr th:only-of-type {\n",
       "        vertical-align: middle;\n",
       "    }\n",
       "\n",
       "    .dataframe tbody tr th {\n",
       "        vertical-align: top;\n",
       "    }\n",
       "\n",
       "    .dataframe thead th {\n",
       "        text-align: right;\n",
       "    }\n",
       "</style>\n",
       "<table border=\"1\" class=\"dataframe\">\n",
       "  <thead>\n",
       "    <tr style=\"text-align: right;\">\n",
       "      <th></th>\n",
       "      <th>skin</th>\n",
       "      <th>age</th>\n",
       "      <th>periode</th>\n",
       "      <th>content</th>\n",
       "      <th>buy</th>\n",
       "      <th>recommend</th>\n",
       "      <th>likes</th>\n",
       "    </tr>\n",
       "  </thead>\n",
       "  <tbody>\n",
       "    <tr>\n",
       "      <th>101</th>\n",
       "      <td>combination, medium light, neutral</td>\n",
       "      <td>combination, medium light, neutral</td>\n",
       "      <td>1 month - 3 months</td>\n",
       "      <td>tipe kulitku normal to dry   sensitif  dan toner ini bener bener ngebantu kulit keringku jadi lembab       gak buat jadi bruntusan apalagi jerawat cocok banget di kulitku yang kering dan sensitif ini     teksturnya cair hampir mirip kayak air dan harganya juga murce banget</td>\n",
       "      <td>shopee</td>\n",
       "      <td>recommends this product</td>\n",
       "      <td>2</td>\n",
       "    </tr>\n",
       "    <tr>\n",
       "      <th>420</th>\n",
       "      <td>combination, medium light, neutral</td>\n",
       "      <td>combination, medium light, neutral</td>\n",
       "      <td>6 months - 1 year</td>\n",
       "      <td>suka banget sih sama toner hadalabo ini  udah habis 3botol  setiap abis pake ini  dimuka kerasa lebih bersih trs teksturnya jugaa enak diwajah dingin dan ngelembabkan muka bangett  udah hampir setahun belum ganti ganti sampe sekarang recomended bngttt 100</td>\n",
       "      <td>traditional market</td>\n",
       "      <td>recommends this product</td>\n",
       "      <td>1</td>\n",
       "    </tr>\n",
       "  </tbody>\n",
       "</table>\n",
       "</div>"
      ],
      "text/plain": [
       "                                   skin                                 age  \\\n",
       "101  combination, medium light, neutral  combination, medium light, neutral   \n",
       "420  combination, medium light, neutral  combination, medium light, neutral   \n",
       "\n",
       "                periode  \\\n",
       "101  1 month - 3 months   \n",
       "420   6 months - 1 year   \n",
       "\n",
       "                                                                                                                                                                                                                                                                                   content  \\\n",
       "101  tipe kulitku normal to dry   sensitif  dan toner ini bener bener ngebantu kulit keringku jadi lembab       gak buat jadi bruntusan apalagi jerawat cocok banget di kulitku yang kering dan sensitif ini     teksturnya cair hampir mirip kayak air dan harganya juga murce banget       \n",
       "420                       suka banget sih sama toner hadalabo ini  udah habis 3botol  setiap abis pake ini  dimuka kerasa lebih bersih trs teksturnya jugaa enak diwajah dingin dan ngelembabkan muka bangett  udah hampir setahun belum ganti ganti sampe sekarang recomended bngttt 100    \n",
       "\n",
       "                    buy                recommend  likes  \n",
       "101              shopee  recommends this product      2  \n",
       "420  traditional market  recommends this product      1  "
      ]
     },
     "execution_count": 37,
     "metadata": {},
     "output_type": "execute_result"
    }
   ],
   "source": [
    "df2.loc[df2['age'] == 'combination, medium light, neutral']"
   ]
  },
  {
   "cell_type": "code",
   "execution_count": 38,
   "metadata": {},
   "outputs": [
    {
     "data": {
      "text/html": [
       "<div>\n",
       "<style scoped>\n",
       "    .dataframe tbody tr th:only-of-type {\n",
       "        vertical-align: middle;\n",
       "    }\n",
       "\n",
       "    .dataframe tbody tr th {\n",
       "        vertical-align: top;\n",
       "    }\n",
       "\n",
       "    .dataframe thead th {\n",
       "        text-align: right;\n",
       "    }\n",
       "</style>\n",
       "<table border=\"1\" class=\"dataframe\">\n",
       "  <thead>\n",
       "    <tr style=\"text-align: right;\">\n",
       "      <th></th>\n",
       "      <th>skin</th>\n",
       "      <th>age</th>\n",
       "      <th>periode</th>\n",
       "      <th>content</th>\n",
       "      <th>buy</th>\n",
       "      <th>recommend</th>\n",
       "      <th>likes</th>\n",
       "    </tr>\n",
       "  </thead>\n",
       "  <tbody>\n",
       "    <tr>\n",
       "      <th>643</th>\n",
       "      <td>combination, medium, warm</td>\n",
       "      <td>combination, medium, warm</td>\n",
       "      <td>more than 1 year</td>\n",
       "      <td>bener bener produk andalan aku untuk toner  karena kulitku kering dan toner ini holy grail bgt  ngelembabin dan cocok untuk kulitku yg mayan sensi  murah juga harganya  less than 50k  sudah pake ini dr tahun 2016 and still counting</td>\n",
       "      <td>guardian</td>\n",
       "      <td>recommends this product</td>\n",
       "      <td>0</td>\n",
       "    </tr>\n",
       "  </tbody>\n",
       "</table>\n",
       "</div>"
      ],
      "text/plain": [
       "                          skin                        age           periode  \\\n",
       "643  combination, medium, warm  combination, medium, warm  more than 1 year   \n",
       "\n",
       "                                                                                                                                                                                                                                       content  \\\n",
       "643  bener bener produk andalan aku untuk toner  karena kulitku kering dan toner ini holy grail bgt  ngelembabin dan cocok untuk kulitku yg mayan sensi  murah juga harganya  less than 50k  sudah pake ini dr tahun 2016 and still counting     \n",
       "\n",
       "          buy                recommend  likes  \n",
       "643  guardian  recommends this product      0  "
      ]
     },
     "execution_count": 38,
     "metadata": {},
     "output_type": "execute_result"
    }
   ],
   "source": [
    "df2.loc[df2['age'] == 'combination, medium, warm']"
   ]
  },
  {
   "cell_type": "code",
   "execution_count": 39,
   "metadata": {},
   "outputs": [
    {
     "data": {
      "text/html": [
       "<div>\n",
       "<style scoped>\n",
       "    .dataframe tbody tr th:only-of-type {\n",
       "        vertical-align: middle;\n",
       "    }\n",
       "\n",
       "    .dataframe tbody tr th {\n",
       "        vertical-align: top;\n",
       "    }\n",
       "\n",
       "    .dataframe thead th {\n",
       "        text-align: right;\n",
       "    }\n",
       "</style>\n",
       "<table border=\"1\" class=\"dataframe\">\n",
       "  <thead>\n",
       "    <tr style=\"text-align: right;\">\n",
       "      <th></th>\n",
       "      <th>skin</th>\n",
       "      <th>age</th>\n",
       "      <th>periode</th>\n",
       "      <th>content</th>\n",
       "      <th>buy</th>\n",
       "      <th>recommend</th>\n",
       "      <th>likes</th>\n",
       "    </tr>\n",
       "  </thead>\n",
       "  <tbody>\n",
       "    <tr>\n",
       "      <th>261</th>\n",
       "      <td>dry, medium dark, warm</td>\n",
       "      <td>dry, medium dark, warm</td>\n",
       "      <td>1 month - 3 months</td>\n",
       "      <td>udah botol kedua aku nyobain toner ini  dari segi tekstur aku lebih suka toner yang kayak gini  gak terlalu cair dan juga gak terlalu kental  teksturnya pas  ngelembabinnya dapet banget  biasanya aku pakai first toner dulu biar wajah aku sedikit basah   kalau habis cuci muka gak usah dilap sampe kering  baru dipakein toner ini oke banget lembabnya  dipakein berlayer layerpun juga gak kerasa lengket  meresapnya juga cepet</td>\n",
       "      <td>shopee</td>\n",
       "      <td>recommends this product</td>\n",
       "      <td>0</td>\n",
       "    </tr>\n",
       "  </tbody>\n",
       "</table>\n",
       "</div>"
      ],
      "text/plain": [
       "                       skin                     age             periode  \\\n",
       "261  dry, medium dark, warm  dry, medium dark, warm  1 month - 3 months   \n",
       "\n",
       "                                                                                                                                                                                                                                                                                                                                                                                                                                      content  \\\n",
       "261  udah botol kedua aku nyobain toner ini  dari segi tekstur aku lebih suka toner yang kayak gini  gak terlalu cair dan juga gak terlalu kental  teksturnya pas  ngelembabinnya dapet banget  biasanya aku pakai first toner dulu biar wajah aku sedikit basah   kalau habis cuci muka gak usah dilap sampe kering  baru dipakein toner ini oke banget lembabnya  dipakein berlayer layerpun juga gak kerasa lengket  meresapnya juga cepet   \n",
       "\n",
       "        buy                recommend  likes  \n",
       "261  shopee  recommends this product      0  "
      ]
     },
     "execution_count": 39,
     "metadata": {},
     "output_type": "execute_result"
    }
   ],
   "source": [
    "df2.loc[df2['age'] == 'dry, medium dark, warm']"
   ]
  },
  {
   "cell_type": "code",
   "execution_count": 40,
   "metadata": {
    "collapsed": true
   },
   "outputs": [],
   "source": [
    "df2.loc[[101, 420, 261], ['age']] = '18 and under'\n",
    "df2.loc[[643], ['age']] = '19 - 24'"
   ]
  },
  {
   "cell_type": "code",
   "execution_count": 41,
   "metadata": {},
   "outputs": [
    {
     "data": {
      "text/html": [
       "<div>\n",
       "<style scoped>\n",
       "    .dataframe tbody tr th:only-of-type {\n",
       "        vertical-align: middle;\n",
       "    }\n",
       "\n",
       "    .dataframe tbody tr th {\n",
       "        vertical-align: top;\n",
       "    }\n",
       "\n",
       "    .dataframe thead th {\n",
       "        text-align: right;\n",
       "    }\n",
       "</style>\n",
       "<table border=\"1\" class=\"dataframe\">\n",
       "  <thead>\n",
       "    <tr style=\"text-align: right;\">\n",
       "      <th></th>\n",
       "      <th>skin</th>\n",
       "      <th>age</th>\n",
       "      <th>periode</th>\n",
       "      <th>content</th>\n",
       "      <th>buy</th>\n",
       "      <th>recommend</th>\n",
       "      <th>likes</th>\n",
       "    </tr>\n",
       "  </thead>\n",
       "  <tbody>\n",
       "    <tr>\n",
       "      <th>101</th>\n",
       "      <td>combination, medium light, neutral</td>\n",
       "      <td>18 and under</td>\n",
       "      <td>1 month - 3 months</td>\n",
       "      <td>tipe kulitku normal to dry   sensitif  dan toner ini bener bener ngebantu kulit keringku jadi lembab       gak buat jadi bruntusan apalagi jerawat cocok banget di kulitku yang kering dan sensitif ini     teksturnya cair hampir mirip kayak air dan harganya juga murce banget</td>\n",
       "      <td>shopee</td>\n",
       "      <td>recommends this product</td>\n",
       "      <td>2</td>\n",
       "    </tr>\n",
       "    <tr>\n",
       "      <th>420</th>\n",
       "      <td>combination, medium light, neutral</td>\n",
       "      <td>18 and under</td>\n",
       "      <td>6 months - 1 year</td>\n",
       "      <td>suka banget sih sama toner hadalabo ini  udah habis 3botol  setiap abis pake ini  dimuka kerasa lebih bersih trs teksturnya jugaa enak diwajah dingin dan ngelembabkan muka bangett  udah hampir setahun belum ganti ganti sampe sekarang recomended bngttt 100</td>\n",
       "      <td>traditional market</td>\n",
       "      <td>recommends this product</td>\n",
       "      <td>1</td>\n",
       "    </tr>\n",
       "    <tr>\n",
       "      <th>261</th>\n",
       "      <td>dry, medium dark, warm</td>\n",
       "      <td>18 and under</td>\n",
       "      <td>1 month - 3 months</td>\n",
       "      <td>udah botol kedua aku nyobain toner ini  dari segi tekstur aku lebih suka toner yang kayak gini  gak terlalu cair dan juga gak terlalu kental  teksturnya pas  ngelembabinnya dapet banget  biasanya aku pakai first toner dulu biar wajah aku sedikit basah   kalau habis cuci muka gak usah dilap sampe kering  baru dipakein toner ini oke banget lembabnya  dipakein berlayer layerpun juga gak kerasa lengket  meresapnya juga cepet</td>\n",
       "      <td>shopee</td>\n",
       "      <td>recommends this product</td>\n",
       "      <td>0</td>\n",
       "    </tr>\n",
       "    <tr>\n",
       "      <th>643</th>\n",
       "      <td>combination, medium, warm</td>\n",
       "      <td>19 - 24</td>\n",
       "      <td>more than 1 year</td>\n",
       "      <td>bener bener produk andalan aku untuk toner  karena kulitku kering dan toner ini holy grail bgt  ngelembabin dan cocok untuk kulitku yg mayan sensi  murah juga harganya  less than 50k  sudah pake ini dr tahun 2016 and still counting</td>\n",
       "      <td>guardian</td>\n",
       "      <td>recommends this product</td>\n",
       "      <td>0</td>\n",
       "    </tr>\n",
       "  </tbody>\n",
       "</table>\n",
       "</div>"
      ],
      "text/plain": [
       "                                   skin           age             periode  \\\n",
       "101  combination, medium light, neutral  18 and under  1 month - 3 months   \n",
       "420  combination, medium light, neutral  18 and under   6 months - 1 year   \n",
       "261              dry, medium dark, warm  18 and under  1 month - 3 months   \n",
       "643           combination, medium, warm       19 - 24    more than 1 year   \n",
       "\n",
       "                                                                                                                                                                                                                                                                                                                                                                                                                                      content  \\\n",
       "101                                                                                                                                                     tipe kulitku normal to dry   sensitif  dan toner ini bener bener ngebantu kulit keringku jadi lembab       gak buat jadi bruntusan apalagi jerawat cocok banget di kulitku yang kering dan sensitif ini     teksturnya cair hampir mirip kayak air dan harganya juga murce banget       \n",
       "420                                                                                                                                                                          suka banget sih sama toner hadalabo ini  udah habis 3botol  setiap abis pake ini  dimuka kerasa lebih bersih trs teksturnya jugaa enak diwajah dingin dan ngelembabkan muka bangett  udah hampir setahun belum ganti ganti sampe sekarang recomended bngttt 100    \n",
       "261  udah botol kedua aku nyobain toner ini  dari segi tekstur aku lebih suka toner yang kayak gini  gak terlalu cair dan juga gak terlalu kental  teksturnya pas  ngelembabinnya dapet banget  biasanya aku pakai first toner dulu biar wajah aku sedikit basah   kalau habis cuci muka gak usah dilap sampe kering  baru dipakein toner ini oke banget lembabnya  dipakein berlayer layerpun juga gak kerasa lengket  meresapnya juga cepet   \n",
       "643                                                                                                                                                                                                 bener bener produk andalan aku untuk toner  karena kulitku kering dan toner ini holy grail bgt  ngelembabin dan cocok untuk kulitku yg mayan sensi  murah juga harganya  less than 50k  sudah pake ini dr tahun 2016 and still counting     \n",
       "\n",
       "                    buy                recommend  likes  \n",
       "101              shopee  recommends this product      2  \n",
       "420  traditional market  recommends this product      1  \n",
       "261              shopee  recommends this product      0  \n",
       "643            guardian  recommends this product      0  "
      ]
     },
     "execution_count": 41,
     "metadata": {},
     "output_type": "execute_result"
    }
   ],
   "source": [
    "df2.loc[[101, 420, 261, 643]]"
   ]
  },
  {
   "cell_type": "code",
   "execution_count": 42,
   "metadata": {},
   "outputs": [
    {
     "data": {
      "text/plain": [
       "periode\n",
       "1 month - 3 months     245\n",
       "1 week - 1 month       140\n",
       "3 months - 6 months    186\n",
       "6 months - 1 year      133\n",
       "less than 1 week        66\n",
       "more than 1 year       220\n",
       "dtype: int64"
      ]
     },
     "execution_count": 42,
     "metadata": {},
     "output_type": "execute_result"
    }
   ],
   "source": [
    "df2.groupby('periode').size()"
   ]
  },
  {
   "cell_type": "code",
   "execution_count": 51,
   "metadata": {},
   "outputs": [
    {
     "data": {
      "text/plain": [
       "recommend\n",
       "doesnt recommend this product     69\n",
       "recommends this product          921\n",
       "dtype: int64"
      ]
     },
     "execution_count": 51,
     "metadata": {},
     "output_type": "execute_result"
    }
   ],
   "source": [
    "df2.groupby('recommend').size()"
   ]
  },
  {
   "cell_type": "code",
   "execution_count": 49,
   "metadata": {
    "collapsed": true
   },
   "outputs": [],
   "source": [
    "# df2.loc[df2['recommend'] == ' someone recommends this product', ['recommend']] = 'recommends this product'"
   ]
  },
  {
   "cell_type": "code",
   "execution_count": 202,
   "metadata": {},
   "outputs": [
    {
     "data": {
      "text/html": [
       "<div>\n",
       "<style scoped>\n",
       "    .dataframe tbody tr th:only-of-type {\n",
       "        vertical-align: middle;\n",
       "    }\n",
       "\n",
       "    .dataframe tbody tr th {\n",
       "        vertical-align: top;\n",
       "    }\n",
       "\n",
       "    .dataframe thead th {\n",
       "        text-align: right;\n",
       "    }\n",
       "</style>\n",
       "<table border=\"1\" class=\"dataframe\">\n",
       "  <thead>\n",
       "    <tr style=\"text-align: right;\">\n",
       "      <th></th>\n",
       "      <th>skin</th>\n",
       "      <th>age</th>\n",
       "      <th>periode</th>\n",
       "      <th>content</th>\n",
       "      <th>buy</th>\n",
       "      <th>recommend</th>\n",
       "      <th>likes</th>\n",
       "    </tr>\n",
       "  </thead>\n",
       "  <tbody>\n",
       "    <tr>\n",
       "      <th>6</th>\n",
       "      <td>oily, light, cool</td>\n",
       "      <td>18 and under</td>\n",
       "      <td>less than 1 week</td>\n",
       "      <td>alhamdulillah cocok  tekstur nya sedikit gel  tidak sepenuhnya air  hasil akhir semi matte  bikin muka kenyal halus gituu  tidak ada parfum  ingredients minimalis  sensitive skin friendly   oke bgt buat melembabkan  untuk dry skin mungkin bisa pakai bbrp layer  sy combi to oily cukup 1 layer dan 2 layer untuk kedua pipi</td>\n",
       "      <td>shopee</td>\n",
       "      <td>than 1 week</td>\n",
       "      <td>1</td>\n",
       "    </tr>\n",
       "    <tr>\n",
       "      <th>88</th>\n",
       "      <td>combination, medium light, neutral</td>\n",
       "      <td>18 and under</td>\n",
       "      <td>less than 1 week</td>\n",
       "      <td>lotion ini udah jadi holy grail buat aku    cukup melembabkan di kulit aku yg kombinasi cenderung kering  cepet nyerep juga di kulit aku  tiap abis bangun tidur  kulit ngerasa glowing sama plumpy gitu  aku pake tiap pagi dan malem  dan ini lumayan lama sih abisnya</td>\n",
       "      <td>shopee</td>\n",
       "      <td>than 1 week</td>\n",
       "      <td>0</td>\n",
       "    </tr>\n",
       "  </tbody>\n",
       "</table>\n",
       "</div>"
      ],
      "text/plain": [
       "                                  skin           age            periode  \\\n",
       "6                    oily, light, cool  18 and under   less than 1 week   \n",
       "88  combination, medium light, neutral  18 and under   less than 1 week   \n",
       "\n",
       "                                                                                                                                                                                                                                                                                                                               content  \\\n",
       "6   alhamdulillah cocok  tekstur nya sedikit gel  tidak sepenuhnya air  hasil akhir semi matte  bikin muka kenyal halus gituu  tidak ada parfum  ingredients minimalis  sensitive skin friendly   oke bgt buat melembabkan  untuk dry skin mungkin bisa pakai bbrp layer  sy combi to oily cukup 1 layer dan 2 layer untuk kedua pipi    \n",
       "88                                                           lotion ini udah jadi holy grail buat aku    cukup melembabkan di kulit aku yg kombinasi cenderung kering  cepet nyerep juga di kulit aku  tiap abis bangun tidur  kulit ngerasa glowing sama plumpy gitu  aku pake tiap pagi dan malem  dan ini lumayan lama sih abisnya    \n",
       "\n",
       "        buy    recommend  likes  \n",
       "6    shopee  than 1 week      1  \n",
       "88   shopee  than 1 week      0  "
      ]
     },
     "execution_count": 202,
     "metadata": {},
     "output_type": "execute_result"
    }
   ],
   "source": [
    "# df2.loc[df2['recommend'] == 'than 1 week']"
   ]
  },
  {
   "cell_type": "code",
   "execution_count": 203,
   "metadata": {},
   "outputs": [
    {
     "data": {
      "text/html": [
       "<div>\n",
       "<style scoped>\n",
       "    .dataframe tbody tr th:only-of-type {\n",
       "        vertical-align: middle;\n",
       "    }\n",
       "\n",
       "    .dataframe tbody tr th {\n",
       "        vertical-align: top;\n",
       "    }\n",
       "\n",
       "    .dataframe thead th {\n",
       "        text-align: right;\n",
       "    }\n",
       "</style>\n",
       "<table border=\"1\" class=\"dataframe\">\n",
       "  <thead>\n",
       "    <tr style=\"text-align: right;\">\n",
       "      <th></th>\n",
       "      <th>skin</th>\n",
       "      <th>age</th>\n",
       "      <th>periode</th>\n",
       "      <th>content</th>\n",
       "      <th>buy</th>\n",
       "      <th>recommend</th>\n",
       "      <th>likes</th>\n",
       "    </tr>\n",
       "  </thead>\n",
       "  <tbody>\n",
       "    <tr>\n",
       "      <th>38</th>\n",
       "      <td>combination, medium light, neutral</td>\n",
       "      <td>18 and under</td>\n",
       "      <td>1 month - 3 months</td>\n",
       "      <td>murah banget dan isinya banyak  it do its job to hydrates very well juga  terus teksturnya ini lebih thick dari yang strip hijau  but even so tetep ga berasa terlalu berat dan greasy di kulit kombinasi normal to oily  nothing too special but nothing to complain about either  dan ini surprisingly abisnya lama banget   punyaku cuma yang ukuran 30ml dan kupake hampir tiap malem tapi sebulanan baru abis dong  masih lebih suka yang strip hijau karena lebih light tapi boleh lah ini jadi second opt...</td>\n",
       "      <td>shopee</td>\n",
       "      <td>month - 3 months</td>\n",
       "      <td>0</td>\n",
       "    </tr>\n",
       "  </tbody>\n",
       "</table>\n",
       "</div>"
      ],
      "text/plain": [
       "                                  skin           age              periode  \\\n",
       "38  combination, medium light, neutral  18 and under   1 month - 3 months   \n",
       "\n",
       "                                                                                                                                                                                                                                                                                                                                                                                                                                                                                                                content  \\\n",
       "38  murah banget dan isinya banyak  it do its job to hydrates very well juga  terus teksturnya ini lebih thick dari yang strip hijau  but even so tetep ga berasa terlalu berat dan greasy di kulit kombinasi normal to oily  nothing too special but nothing to complain about either  dan ini surprisingly abisnya lama banget   punyaku cuma yang ukuran 30ml dan kupake hampir tiap malem tapi sebulanan baru abis dong  masih lebih suka yang strip hijau karena lebih light tapi boleh lah ini jadi second opt...   \n",
       "\n",
       "        buy         recommend  likes  \n",
       "38   shopee  month - 3 months      0  "
      ]
     },
     "execution_count": 203,
     "metadata": {},
     "output_type": "execute_result"
    }
   ],
   "source": [
    "# df2.loc[df2['recommend'] == 'month - 3 months']"
   ]
  },
  {
   "cell_type": "code",
   "execution_count": 245,
   "metadata": {
    "collapsed": true
   },
   "outputs": [],
   "source": [
    "df2.loc[[6, 38, 88], ['recommend']] = 'recommends this product'"
   ]
  },
  {
   "cell_type": "code",
   "execution_count": 52,
   "metadata": {},
   "outputs": [
    {
     "data": {
      "text/html": [
       "<div>\n",
       "<style scoped>\n",
       "    .dataframe tbody tr th:only-of-type {\n",
       "        vertical-align: middle;\n",
       "    }\n",
       "\n",
       "    .dataframe tbody tr th {\n",
       "        vertical-align: top;\n",
       "    }\n",
       "\n",
       "    .dataframe thead th {\n",
       "        text-align: right;\n",
       "    }\n",
       "</style>\n",
       "<table border=\"1\" class=\"dataframe\">\n",
       "  <thead>\n",
       "    <tr style=\"text-align: right;\">\n",
       "      <th></th>\n",
       "      <th>skin</th>\n",
       "      <th>age</th>\n",
       "      <th>periode</th>\n",
       "      <th>content</th>\n",
       "      <th>buy</th>\n",
       "      <th>recommend</th>\n",
       "      <th>likes</th>\n",
       "    </tr>\n",
       "  </thead>\n",
       "  <tbody>\n",
       "    <tr>\n",
       "      <th>6</th>\n",
       "      <td>combination, medium light, warm</td>\n",
       "      <td>18 and under</td>\n",
       "      <td>6 months - 1 year</td>\n",
       "      <td>dia ada banget efek hydrate nya  apalgi klo aku lagi seringn di dalam ruangan ber ac dan bikin kulitku kering samps ngelupas  toner yg ini bener bener ngebantu lembabin banget  setela pemakain    setahun menurutku dikit demi sedikit  dia ada efek brighteningnya  tp emang proses nya lama bgt</td>\n",
       "      <td>shopee</td>\n",
       "      <td>recommends this product</td>\n",
       "      <td>0</td>\n",
       "    </tr>\n",
       "    <tr>\n",
       "      <th>38</th>\n",
       "      <td>combination, medium dark, warm</td>\n",
       "      <td>19 - 24</td>\n",
       "      <td>more than 1 year</td>\n",
       "      <td>awalnya bingung ini tuh produk jenis apa sih ternyata pas searching ini semacam toner  di kulitku juara banget untuk hydrating toner dengan harga yang terjangkau bikin kulit jadi lembab  teksturnya agak kentel dna cepet nyerep ke kulit  pake ini pas pagi juga nyaman banget biasanya kalo aku lagi pake toner ini skip moist jadi langsung ke sunscreen  dipake setelah toner exfo juga bagus sih gk nimbulin efek yg aneh2  udah alcohol free  paraben free  dan no colorant tp harganya semurah itu bene...</td>\n",
       "      <td>shopee</td>\n",
       "      <td>recommends this product</td>\n",
       "      <td>0</td>\n",
       "    </tr>\n",
       "    <tr>\n",
       "      <th>88</th>\n",
       "      <td>oily, medium light, warm</td>\n",
       "      <td>19 - 24</td>\n",
       "      <td>3 months - 6 months</td>\n",
       "      <td>toner in luvv sukaak bgt di kulitku yg oily dia dapet bgt hidrasi nyaa  walaupun ini khusus normal to dy tp di kulit ku yg oily dia masi aman aman ajaa si ga sampee yg beratt bgt teskturnyaa  harganya jugaa super in luv dengan kualitas lembab yg nampoll</td>\n",
       "      <td>shopee</td>\n",
       "      <td>recommends this product</td>\n",
       "      <td>0</td>\n",
       "    </tr>\n",
       "  </tbody>\n",
       "</table>\n",
       "</div>"
      ],
      "text/plain": [
       "                               skin           age              periode  \\\n",
       "6   combination, medium light, warm  18 and under    6 months - 1 year   \n",
       "38   combination, medium dark, warm       19 - 24     more than 1 year   \n",
       "88         oily, medium light, warm       19 - 24  3 months - 6 months   \n",
       "\n",
       "                                                                                                                                                                                                                                                                                                                                                                                                                                                                                                                content  \\\n",
       "6                                                                                                                                                                                                                  dia ada banget efek hydrate nya  apalgi klo aku lagi seringn di dalam ruangan ber ac dan bikin kulitku kering samps ngelupas  toner yg ini bener bener ngebantu lembabin banget  setela pemakain    setahun menurutku dikit demi sedikit  dia ada efek brighteningnya  tp emang proses nya lama bgt    \n",
       "38  awalnya bingung ini tuh produk jenis apa sih ternyata pas searching ini semacam toner  di kulitku juara banget untuk hydrating toner dengan harga yang terjangkau bikin kulit jadi lembab  teksturnya agak kentel dna cepet nyerep ke kulit  pake ini pas pagi juga nyaman banget biasanya kalo aku lagi pake toner ini skip moist jadi langsung ke sunscreen  dipake setelah toner exfo juga bagus sih gk nimbulin efek yg aneh2  udah alcohol free  paraben free  dan no colorant tp harganya semurah itu bene...   \n",
       "88                                                                                                                                                                                                                                                        toner in luvv sukaak bgt di kulitku yg oily dia dapet bgt hidrasi nyaa  walaupun ini khusus normal to dy tp di kulit ku yg oily dia masi aman aman ajaa si ga sampee yg beratt bgt teskturnyaa  harganya jugaa super in luv dengan kualitas lembab yg nampoll   \n",
       "\n",
       "       buy                recommend  likes  \n",
       "6   shopee  recommends this product      0  \n",
       "38  shopee  recommends this product      0  \n",
       "88  shopee  recommends this product      0  "
      ]
     },
     "execution_count": 52,
     "metadata": {},
     "output_type": "execute_result"
    }
   ],
   "source": [
    "df2.loc[[6, 38, 88]]"
   ]
  },
  {
   "cell_type": "code",
   "execution_count": 53,
   "metadata": {},
   "outputs": [
    {
     "data": {
      "text/plain": [
       "likes\n",
       "0     680\n",
       "1     126\n",
       "2      44\n",
       "3      37\n",
       "4      23\n",
       "5      13\n",
       "6      10\n",
       "7       7\n",
       "8       8\n",
       "9       4\n",
       "10      3\n",
       "11      5\n",
       "12      5\n",
       "13      4\n",
       "14      3\n",
       "15      1\n",
       "17      2\n",
       "18      2\n",
       "19      1\n",
       "20      2\n",
       "21      1\n",
       "24      2\n",
       "28      1\n",
       "32      1\n",
       "33      1\n",
       "37      2\n",
       "64      1\n",
       "74      1\n",
       "dtype: int64"
      ]
     },
     "execution_count": 53,
     "metadata": {},
     "output_type": "execute_result"
    }
   ],
   "source": [
    "df2.groupby('likes').size()"
   ]
  },
  {
   "cell_type": "code",
   "execution_count": 146,
   "metadata": {
    "collapsed": true
   },
   "outputs": [],
   "source": [
    "# df2.to_csv('data-review-clean.csv', sep=',', index=False)"
   ]
  },
  {
   "cell_type": "code",
   "execution_count": 54,
   "metadata": {
    "collapsed": true
   },
   "outputs": [],
   "source": [
    "df3 = df2.copy()"
   ]
  },
  {
   "cell_type": "code",
   "execution_count": 55,
   "metadata": {
    "collapsed": true
   },
   "outputs": [],
   "source": [
    "types = df3['skin'].str.split(',').str.get(0)\n",
    "tones = df3['skin'].str.split(',').str.get(1)\n",
    "undertones = df3['skin'].str.split(',').str.get(2)"
   ]
  },
  {
   "cell_type": "code",
   "execution_count": 56,
   "metadata": {
    "collapsed": true
   },
   "outputs": [],
   "source": [
    "df3.insert(loc=0, column='types', value=types)\n",
    "df3.insert(loc=1, column='tones', value=tones)\n",
    "df3.insert(loc=2, column='undertones', value=undertones)"
   ]
  },
  {
   "cell_type": "code",
   "execution_count": 57,
   "metadata": {
    "collapsed": true
   },
   "outputs": [],
   "source": [
    "df3 = df3.drop('skin', axis=1)"
   ]
  },
  {
   "cell_type": "code",
   "execution_count": 58,
   "metadata": {},
   "outputs": [
    {
     "data": {
      "text/html": [
       "<div>\n",
       "<style scoped>\n",
       "    .dataframe tbody tr th:only-of-type {\n",
       "        vertical-align: middle;\n",
       "    }\n",
       "\n",
       "    .dataframe tbody tr th {\n",
       "        vertical-align: top;\n",
       "    }\n",
       "\n",
       "    .dataframe thead th {\n",
       "        text-align: right;\n",
       "    }\n",
       "</style>\n",
       "<table border=\"1\" class=\"dataframe\">\n",
       "  <thead>\n",
       "    <tr style=\"text-align: right;\">\n",
       "      <th></th>\n",
       "      <th>types</th>\n",
       "      <th>tones</th>\n",
       "      <th>undertones</th>\n",
       "      <th>age</th>\n",
       "      <th>periode</th>\n",
       "      <th>content</th>\n",
       "      <th>buy</th>\n",
       "      <th>recommend</th>\n",
       "      <th>likes</th>\n",
       "    </tr>\n",
       "  </thead>\n",
       "  <tbody>\n",
       "    <tr>\n",
       "      <th>0</th>\n",
       "      <td>oily</td>\n",
       "      <td>medium light</td>\n",
       "      <td>cool</td>\n",
       "      <td>25 - 29</td>\n",
       "      <td>1 month - 3 months</td>\n",
       "      <td>beli ini impulsif aja karena murah lol  walaupun di labelnya buat dry skin sedangkan kulitku normal to oily  di aku tetep cocok  teksturnya agak lebih kental dari varian light lotion  ijo   tapi ga lengket  karena dia ga se watery yang ijo  aku pakenya cuma 4 5 tetes dan cuma 1x layer udah cukup buat muka dan leher  dan karena cuma butuh sedikit  jadi awet banget berbulan bulan  aku pakenya langsung dilayer moisturizer pas masih lembap karena hydrating products harus langsung dikunci sama oc...</td>\n",
       "      <td>watson</td>\n",
       "      <td>recommends this product</td>\n",
       "      <td>5</td>\n",
       "    </tr>\n",
       "    <tr>\n",
       "      <th>1</th>\n",
       "      <td>normal</td>\n",
       "      <td>medium dark</td>\n",
       "      <td>warm</td>\n",
       "      <td>19 - 24</td>\n",
       "      <td>more than 1 year</td>\n",
       "      <td>toner pertamaku dan suka banget  teksturnya ringan dan cair  cukup melembabkan juga  biasanya aku pake beberapa layer  so far cocok dikulit aku  mama juga suka pake  pakenya agak banyakan juga lumayan awet  gak habis habis  udah habis beberapa botol</td>\n",
       "      <td>transmart</td>\n",
       "      <td>recommends this product</td>\n",
       "      <td>0</td>\n",
       "    </tr>\n",
       "    <tr>\n",
       "      <th>2</th>\n",
       "      <td>combination</td>\n",
       "      <td>medium</td>\n",
       "      <td>neutral</td>\n",
       "      <td>19 - 24</td>\n",
       "      <td>1 month - 3 months</td>\n",
       "      <td>first time nyoba produk ini yang 30ml dan gak ada efek samping apa pun  jadi karena udah abis  aku beli sekalian yang 100mlnya teksturnya cair dan gak berbau tajam  friendly for my skin  it soothes and hydrates but not pricey at all  my experience with this product so far so good  recommended</td>\n",
       "      <td>shopee</td>\n",
       "      <td>recommends this product</td>\n",
       "      <td>0</td>\n",
       "    </tr>\n",
       "    <tr>\n",
       "      <th>3</th>\n",
       "      <td>normal</td>\n",
       "      <td>medium light</td>\n",
       "      <td>neutral</td>\n",
       "      <td>19 - 24</td>\n",
       "      <td>6 months - 1 year</td>\n",
       "      <td>produk ini pernah vital dan jadilah susah untuk ku pengguna lama menemukannya uu teksturnya cair tapi dan tidak berbau sama sekali  cepet meresap dan beneran bikin kulit jadi lembab dan kenyal  pakai ini udah lama banget dia juga bikin wajah jadi cerah dan ternutrisi</td>\n",
       "      <td>transmart</td>\n",
       "      <td>recommends this product</td>\n",
       "      <td>0</td>\n",
       "    </tr>\n",
       "    <tr>\n",
       "      <th>4</th>\n",
       "      <td>dry</td>\n",
       "      <td>medium</td>\n",
       "      <td>neutral</td>\n",
       "      <td>19 - 24</td>\n",
       "      <td>more than 1 year</td>\n",
       "      <td>hydrating toner andalan banget udah repurchase beberapa kali dari sebelum pandemi sampe sekarang pake terus  comfort product buat aku banget must try buat yg punya kulit kering bikin lembab kulit muka kita</td>\n",
       "      <td>tokopedia</td>\n",
       "      <td>recommends this product</td>\n",
       "      <td>0</td>\n",
       "    </tr>\n",
       "  </tbody>\n",
       "</table>\n",
       "</div>"
      ],
      "text/plain": [
       "         types          tones undertones      age             periode  \\\n",
       "0         oily   medium light       cool  25 - 29  1 month - 3 months   \n",
       "1       normal    medium dark       warm  19 - 24    more than 1 year   \n",
       "2  combination         medium    neutral  19 - 24  1 month - 3 months   \n",
       "3       normal   medium light    neutral  19 - 24   6 months - 1 year   \n",
       "4          dry         medium    neutral  19 - 24    more than 1 year   \n",
       "\n",
       "                                                                                                                                                                                                                                                                                                                                                                                                                                                                                                               content  \\\n",
       "0  beli ini impulsif aja karena murah lol  walaupun di labelnya buat dry skin sedangkan kulitku normal to oily  di aku tetep cocok  teksturnya agak lebih kental dari varian light lotion  ijo   tapi ga lengket  karena dia ga se watery yang ijo  aku pakenya cuma 4 5 tetes dan cuma 1x layer udah cukup buat muka dan leher  dan karena cuma butuh sedikit  jadi awet banget berbulan bulan  aku pakenya langsung dilayer moisturizer pas masih lembap karena hydrating products harus langsung dikunci sama oc...   \n",
       "1                                                                                                                                                                                                                                                           toner pertamaku dan suka banget  teksturnya ringan dan cair  cukup melembabkan juga  biasanya aku pake beberapa layer  so far cocok dikulit aku  mama juga suka pake  pakenya agak banyakan juga lumayan awet  gak habis habis  udah habis beberapa botol    \n",
       "2                                                                                                                                                                                                              first time nyoba produk ini yang 30ml dan gak ada efek samping apa pun  jadi karena udah abis  aku beli sekalian yang 100mlnya teksturnya cair dan gak berbau tajam  friendly for my skin  it soothes and hydrates but not pricey at all  my experience with this product so far so good  recommended     \n",
       "3                                                                                                                                                                                                                                          produk ini pernah vital dan jadilah susah untuk ku pengguna lama menemukannya uu teksturnya cair tapi dan tidak berbau sama sekali  cepet meresap dan beneran bikin kulit jadi lembab dan kenyal  pakai ini udah lama banget dia juga bikin wajah jadi cerah dan ternutrisi   \n",
       "4                                                                                                                                                                                                                                                                                                  hydrating toner andalan banget udah repurchase beberapa kali dari sebelum pandemi sampe sekarang pake terus  comfort product buat aku banget must try buat yg punya kulit kering bikin lembab kulit muka kita         \n",
       "\n",
       "         buy                recommend  likes  \n",
       "0     watson  recommends this product      5  \n",
       "1  transmart  recommends this product      0  \n",
       "2     shopee  recommends this product      0  \n",
       "3  transmart  recommends this product      0  \n",
       "4  tokopedia  recommends this product      0  "
      ]
     },
     "execution_count": 58,
     "metadata": {},
     "output_type": "execute_result"
    }
   ],
   "source": [
    "df3.head()"
   ]
  },
  {
   "cell_type": "code",
   "execution_count": 59,
   "metadata": {
    "collapsed": true
   },
   "outputs": [],
   "source": [
    "df3.to_csv('data-review-clean-3.csv', sep=',', index=False)"
   ]
  }
 ],
 "metadata": {
  "kernelspec": {
   "display_name": "Python 3",
   "language": "python",
   "name": "python3"
  },
  "language_info": {
   "codemirror_mode": {
    "name": "ipython",
    "version": 3
   },
   "file_extension": ".py",
   "mimetype": "text/x-python",
   "name": "python",
   "nbconvert_exporter": "python",
   "pygments_lexer": "ipython3",
   "version": "3.7.0"
  }
 },
 "nbformat": 4,
 "nbformat_minor": 2
}
