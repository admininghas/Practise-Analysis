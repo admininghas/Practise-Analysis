{
 "cells": [
  {
   "cell_type": "code",
   "execution_count": 1,
   "metadata": {
    "collapsed": true
   },
   "outputs": [],
   "source": [
    "import pandas as pd"
   ]
  },
  {
   "cell_type": "code",
   "execution_count": 6,
   "metadata": {
    "collapsed": true
   },
   "outputs": [],
   "source": [
    "data = pd.read_csv('data-review-clean-3.csv')\n",
    "df = pd.DataFrame(data)"
   ]
  },
  {
   "cell_type": "code",
   "execution_count": 7,
   "metadata": {},
   "outputs": [
    {
     "data": {
      "text/html": [
       "<div>\n",
       "<style scoped>\n",
       "    .dataframe tbody tr th:only-of-type {\n",
       "        vertical-align: middle;\n",
       "    }\n",
       "\n",
       "    .dataframe tbody tr th {\n",
       "        vertical-align: top;\n",
       "    }\n",
       "\n",
       "    .dataframe thead th {\n",
       "        text-align: right;\n",
       "    }\n",
       "</style>\n",
       "<table border=\"1\" class=\"dataframe\">\n",
       "  <thead>\n",
       "    <tr style=\"text-align: right;\">\n",
       "      <th></th>\n",
       "      <th>types</th>\n",
       "      <th>tones</th>\n",
       "      <th>undertones</th>\n",
       "      <th>age</th>\n",
       "      <th>periode</th>\n",
       "      <th>content</th>\n",
       "      <th>buy</th>\n",
       "      <th>recommend</th>\n",
       "      <th>likes</th>\n",
       "    </tr>\n",
       "  </thead>\n",
       "  <tbody>\n",
       "    <tr>\n",
       "      <th>0</th>\n",
       "      <td>oily</td>\n",
       "      <td>medium light</td>\n",
       "      <td>cool</td>\n",
       "      <td>25 - 29</td>\n",
       "      <td>1 month - 3 months</td>\n",
       "      <td>beli ini impulsif aja karena murah lol  walaup...</td>\n",
       "      <td>watson</td>\n",
       "      <td>recommends this product</td>\n",
       "      <td>5</td>\n",
       "    </tr>\n",
       "    <tr>\n",
       "      <th>1</th>\n",
       "      <td>normal</td>\n",
       "      <td>medium dark</td>\n",
       "      <td>warm</td>\n",
       "      <td>19 - 24</td>\n",
       "      <td>more than 1 year</td>\n",
       "      <td>toner pertamaku dan suka banget  teksturnya ri...</td>\n",
       "      <td>transmart</td>\n",
       "      <td>recommends this product</td>\n",
       "      <td>0</td>\n",
       "    </tr>\n",
       "    <tr>\n",
       "      <th>2</th>\n",
       "      <td>combination</td>\n",
       "      <td>medium</td>\n",
       "      <td>neutral</td>\n",
       "      <td>19 - 24</td>\n",
       "      <td>1 month - 3 months</td>\n",
       "      <td>first time nyoba produk ini yang 30ml dan gak ...</td>\n",
       "      <td>shopee</td>\n",
       "      <td>recommends this product</td>\n",
       "      <td>0</td>\n",
       "    </tr>\n",
       "    <tr>\n",
       "      <th>3</th>\n",
       "      <td>normal</td>\n",
       "      <td>medium light</td>\n",
       "      <td>neutral</td>\n",
       "      <td>19 - 24</td>\n",
       "      <td>6 months - 1 year</td>\n",
       "      <td>produk ini pernah vital dan jadilah susah untu...</td>\n",
       "      <td>transmart</td>\n",
       "      <td>recommends this product</td>\n",
       "      <td>0</td>\n",
       "    </tr>\n",
       "    <tr>\n",
       "      <th>4</th>\n",
       "      <td>dry</td>\n",
       "      <td>medium</td>\n",
       "      <td>neutral</td>\n",
       "      <td>19 - 24</td>\n",
       "      <td>more than 1 year</td>\n",
       "      <td>hydrating toner andalan banget udah repurchase...</td>\n",
       "      <td>tokopedia</td>\n",
       "      <td>recommends this product</td>\n",
       "      <td>0</td>\n",
       "    </tr>\n",
       "  </tbody>\n",
       "</table>\n",
       "</div>"
      ],
      "text/plain": [
       "         types          tones undertones      age             periode  \\\n",
       "0         oily   medium light       cool  25 - 29  1 month - 3 months   \n",
       "1       normal    medium dark       warm  19 - 24    more than 1 year   \n",
       "2  combination         medium    neutral  19 - 24  1 month - 3 months   \n",
       "3       normal   medium light    neutral  19 - 24   6 months - 1 year   \n",
       "4          dry         medium    neutral  19 - 24    more than 1 year   \n",
       "\n",
       "                                             content        buy  \\\n",
       "0  beli ini impulsif aja karena murah lol  walaup...     watson   \n",
       "1  toner pertamaku dan suka banget  teksturnya ri...  transmart   \n",
       "2  first time nyoba produk ini yang 30ml dan gak ...     shopee   \n",
       "3  produk ini pernah vital dan jadilah susah untu...  transmart   \n",
       "4  hydrating toner andalan banget udah repurchase...  tokopedia   \n",
       "\n",
       "                 recommend  likes  \n",
       "0  recommends this product      5  \n",
       "1  recommends this product      0  \n",
       "2  recommends this product      0  \n",
       "3  recommends this product      0  \n",
       "4  recommends this product      0  "
      ]
     },
     "execution_count": 7,
     "metadata": {},
     "output_type": "execute_result"
    }
   ],
   "source": [
    "df.head()"
   ]
  },
  {
   "cell_type": "code",
   "execution_count": 5,
   "metadata": {},
   "outputs": [
    {
     "data": {
      "text/html": [
       "<div>\n",
       "<style scoped>\n",
       "    .dataframe tbody tr th:only-of-type {\n",
       "        vertical-align: middle;\n",
       "    }\n",
       "\n",
       "    .dataframe tbody tr th {\n",
       "        vertical-align: top;\n",
       "    }\n",
       "\n",
       "    .dataframe thead th {\n",
       "        text-align: right;\n",
       "    }\n",
       "</style>\n",
       "<table border=\"1\" class=\"dataframe\">\n",
       "  <thead>\n",
       "    <tr style=\"text-align: right;\">\n",
       "      <th></th>\n",
       "      <th>types</th>\n",
       "      <th>tones</th>\n",
       "      <th>undertones</th>\n",
       "      <th>age</th>\n",
       "      <th>periode</th>\n",
       "      <th>content</th>\n",
       "      <th>buy</th>\n",
       "      <th>recommend</th>\n",
       "      <th>likes</th>\n",
       "    </tr>\n",
       "  </thead>\n",
       "  <tbody>\n",
       "    <tr>\n",
       "      <th>0</th>\n",
       "      <td>normal</td>\n",
       "      <td>medium dark</td>\n",
       "      <td>warm</td>\n",
       "      <td>19 - 24</td>\n",
       "      <td>more than 1 year</td>\n",
       "      <td>toner pertamaku dan suka banget  teksturnya ri...</td>\n",
       "      <td>transmart</td>\n",
       "      <td>recommends this product</td>\n",
       "      <td>0</td>\n",
       "    </tr>\n",
       "    <tr>\n",
       "      <th>1</th>\n",
       "      <td>combination</td>\n",
       "      <td>medium</td>\n",
       "      <td>neutral</td>\n",
       "      <td>19 - 24</td>\n",
       "      <td>1 month - 3 months</td>\n",
       "      <td>first time nyoba produk ini yang 30ml dan gak ...</td>\n",
       "      <td>shopee</td>\n",
       "      <td>recommends this product</td>\n",
       "      <td>0</td>\n",
       "    </tr>\n",
       "    <tr>\n",
       "      <th>2</th>\n",
       "      <td>normal</td>\n",
       "      <td>medium light</td>\n",
       "      <td>neutral</td>\n",
       "      <td>19 - 24</td>\n",
       "      <td>6 months - 1 year</td>\n",
       "      <td>produk ini pernah vital dan jadilah susah untu...</td>\n",
       "      <td>transmart</td>\n",
       "      <td>recommends this product</td>\n",
       "      <td>0</td>\n",
       "    </tr>\n",
       "    <tr>\n",
       "      <th>3</th>\n",
       "      <td>dry</td>\n",
       "      <td>medium</td>\n",
       "      <td>neutral</td>\n",
       "      <td>19 - 24</td>\n",
       "      <td>more than 1 year</td>\n",
       "      <td>hydrating toner andalan banget udah repurchase...</td>\n",
       "      <td>tokopedia</td>\n",
       "      <td>recommends this product</td>\n",
       "      <td>0</td>\n",
       "    </tr>\n",
       "    <tr>\n",
       "      <th>4</th>\n",
       "      <td>combination</td>\n",
       "      <td>medium</td>\n",
       "      <td>neutral</td>\n",
       "      <td>19 - 24</td>\n",
       "      <td>1 month - 3 months</td>\n",
       "      <td>gacocokkkkk  emang bener jangan ekspektasi keb...</td>\n",
       "      <td>shopee</td>\n",
       "      <td>doesnt recommend this product</td>\n",
       "      <td>0</td>\n",
       "    </tr>\n",
       "  </tbody>\n",
       "</table>\n",
       "</div>"
      ],
      "text/plain": [
       "         types          tones undertones      age             periode  \\\n",
       "0       normal    medium dark       warm  19 - 24    more than 1 year   \n",
       "1  combination         medium    neutral  19 - 24  1 month - 3 months   \n",
       "2       normal   medium light    neutral  19 - 24   6 months - 1 year   \n",
       "3          dry         medium    neutral  19 - 24    more than 1 year   \n",
       "4  combination         medium    neutral  19 - 24  1 month - 3 months   \n",
       "\n",
       "                                             content        buy  \\\n",
       "0  toner pertamaku dan suka banget  teksturnya ri...  transmart   \n",
       "1  first time nyoba produk ini yang 30ml dan gak ...     shopee   \n",
       "2  produk ini pernah vital dan jadilah susah untu...  transmart   \n",
       "3  hydrating toner andalan banget udah repurchase...  tokopedia   \n",
       "4  gacocokkkkk  emang bener jangan ekspektasi keb...     shopee   \n",
       "\n",
       "                       recommend  likes  \n",
       "0        recommends this product      0  \n",
       "1        recommends this product      0  \n",
       "2        recommends this product      0  \n",
       "3        recommends this product      0  \n",
       "4  doesnt recommend this product      0  "
      ]
     },
     "execution_count": 5,
     "metadata": {},
     "output_type": "execute_result"
    }
   ],
   "source": [
    "df.head()"
   ]
  },
  {
   "cell_type": "markdown",
   "metadata": {},
   "source": [
    "untuk saat ini saya hanya akan menggunakan beberapa kolom dari data review,  \n",
    "yaitu kolom-kolom selain kolom **content**.  \n",
    "jadi, saya hapus dulu ya, kolom **content** biar lebih ringkas.  \n",
    "  \n",
    "  \n",
    "*kolom **content** bisa digunakan untuk menganalisis sentimen pengguna,  \n",
    "tapi kali ini saya skip dulu ya*  \n",
    "  \n",
    "selain itu  \n",
    "*variabel **tones** dan **undertones** untuk produk ini untuk sementara diabaikan,  \n",
    "karena keduanya tidak memiliki pengaruh secara signifikan*"
   ]
  },
  {
   "cell_type": "code",
   "execution_count": 8,
   "metadata": {
    "collapsed": true
   },
   "outputs": [],
   "source": [
    "df2 = df.copy()"
   ]
  },
  {
   "cell_type": "code",
   "execution_count": 9,
   "metadata": {
    "collapsed": true
   },
   "outputs": [],
   "source": [
    "df2 = df2.drop('content', axis=1)"
   ]
  },
  {
   "cell_type": "code",
   "execution_count": 10,
   "metadata": {},
   "outputs": [
    {
     "data": {
      "text/html": [
       "<div>\n",
       "<style scoped>\n",
       "    .dataframe tbody tr th:only-of-type {\n",
       "        vertical-align: middle;\n",
       "    }\n",
       "\n",
       "    .dataframe tbody tr th {\n",
       "        vertical-align: top;\n",
       "    }\n",
       "\n",
       "    .dataframe thead th {\n",
       "        text-align: right;\n",
       "    }\n",
       "</style>\n",
       "<table border=\"1\" class=\"dataframe\">\n",
       "  <thead>\n",
       "    <tr style=\"text-align: right;\">\n",
       "      <th></th>\n",
       "      <th>types</th>\n",
       "      <th>tones</th>\n",
       "      <th>undertones</th>\n",
       "      <th>age</th>\n",
       "      <th>periode</th>\n",
       "      <th>buy</th>\n",
       "      <th>recommend</th>\n",
       "      <th>likes</th>\n",
       "    </tr>\n",
       "  </thead>\n",
       "  <tbody>\n",
       "    <tr>\n",
       "      <th>0</th>\n",
       "      <td>oily</td>\n",
       "      <td>medium light</td>\n",
       "      <td>cool</td>\n",
       "      <td>25 - 29</td>\n",
       "      <td>1 month - 3 months</td>\n",
       "      <td>watson</td>\n",
       "      <td>recommends this product</td>\n",
       "      <td>5</td>\n",
       "    </tr>\n",
       "    <tr>\n",
       "      <th>1</th>\n",
       "      <td>normal</td>\n",
       "      <td>medium dark</td>\n",
       "      <td>warm</td>\n",
       "      <td>19 - 24</td>\n",
       "      <td>more than 1 year</td>\n",
       "      <td>transmart</td>\n",
       "      <td>recommends this product</td>\n",
       "      <td>0</td>\n",
       "    </tr>\n",
       "    <tr>\n",
       "      <th>2</th>\n",
       "      <td>combination</td>\n",
       "      <td>medium</td>\n",
       "      <td>neutral</td>\n",
       "      <td>19 - 24</td>\n",
       "      <td>1 month - 3 months</td>\n",
       "      <td>shopee</td>\n",
       "      <td>recommends this product</td>\n",
       "      <td>0</td>\n",
       "    </tr>\n",
       "    <tr>\n",
       "      <th>3</th>\n",
       "      <td>normal</td>\n",
       "      <td>medium light</td>\n",
       "      <td>neutral</td>\n",
       "      <td>19 - 24</td>\n",
       "      <td>6 months - 1 year</td>\n",
       "      <td>transmart</td>\n",
       "      <td>recommends this product</td>\n",
       "      <td>0</td>\n",
       "    </tr>\n",
       "    <tr>\n",
       "      <th>4</th>\n",
       "      <td>dry</td>\n",
       "      <td>medium</td>\n",
       "      <td>neutral</td>\n",
       "      <td>19 - 24</td>\n",
       "      <td>more than 1 year</td>\n",
       "      <td>tokopedia</td>\n",
       "      <td>recommends this product</td>\n",
       "      <td>0</td>\n",
       "    </tr>\n",
       "    <tr>\n",
       "      <th>5</th>\n",
       "      <td>combination</td>\n",
       "      <td>medium</td>\n",
       "      <td>neutral</td>\n",
       "      <td>19 - 24</td>\n",
       "      <td>1 month - 3 months</td>\n",
       "      <td>shopee</td>\n",
       "      <td>doesnt recommend this product</td>\n",
       "      <td>0</td>\n",
       "    </tr>\n",
       "    <tr>\n",
       "      <th>6</th>\n",
       "      <td>combination</td>\n",
       "      <td>medium light</td>\n",
       "      <td>warm</td>\n",
       "      <td>18 and under</td>\n",
       "      <td>6 months - 1 year</td>\n",
       "      <td>shopee</td>\n",
       "      <td>recommends this product</td>\n",
       "      <td>0</td>\n",
       "    </tr>\n",
       "    <tr>\n",
       "      <th>7</th>\n",
       "      <td>dry</td>\n",
       "      <td>light</td>\n",
       "      <td>cool</td>\n",
       "      <td>35 - 39</td>\n",
       "      <td>more than 1 year</td>\n",
       "      <td>tokopedia</td>\n",
       "      <td>recommends this product</td>\n",
       "      <td>0</td>\n",
       "    </tr>\n",
       "    <tr>\n",
       "      <th>8</th>\n",
       "      <td>oily</td>\n",
       "      <td>light</td>\n",
       "      <td>cool</td>\n",
       "      <td>18 and under</td>\n",
       "      <td>less than 1 week</td>\n",
       "      <td>shopee</td>\n",
       "      <td>recommends this product</td>\n",
       "      <td>1</td>\n",
       "    </tr>\n",
       "    <tr>\n",
       "      <th>9</th>\n",
       "      <td>oily</td>\n",
       "      <td>medium</td>\n",
       "      <td>neutral</td>\n",
       "      <td>19 - 24</td>\n",
       "      <td>more than 1 year</td>\n",
       "      <td>official brand store</td>\n",
       "      <td>recommends this product</td>\n",
       "      <td>0</td>\n",
       "    </tr>\n",
       "  </tbody>\n",
       "</table>\n",
       "</div>"
      ],
      "text/plain": [
       "         types          tones undertones           age             periode  \\\n",
       "0         oily   medium light       cool       25 - 29  1 month - 3 months   \n",
       "1       normal    medium dark       warm       19 - 24    more than 1 year   \n",
       "2  combination         medium    neutral       19 - 24  1 month - 3 months   \n",
       "3       normal   medium light    neutral       19 - 24   6 months - 1 year   \n",
       "4          dry         medium    neutral       19 - 24    more than 1 year   \n",
       "5  combination         medium    neutral       19 - 24  1 month - 3 months   \n",
       "6  combination   medium light       warm  18 and under   6 months - 1 year   \n",
       "7          dry          light       cool       35 - 39    more than 1 year   \n",
       "8         oily          light       cool  18 and under    less than 1 week   \n",
       "9         oily         medium    neutral       19 - 24    more than 1 year   \n",
       "\n",
       "                    buy                      recommend  likes  \n",
       "0                watson        recommends this product      5  \n",
       "1             transmart        recommends this product      0  \n",
       "2                shopee        recommends this product      0  \n",
       "3             transmart        recommends this product      0  \n",
       "4             tokopedia        recommends this product      0  \n",
       "5                shopee  doesnt recommend this product      0  \n",
       "6                shopee        recommends this product      0  \n",
       "7             tokopedia        recommends this product      0  \n",
       "8                shopee        recommends this product      1  \n",
       "9  official brand store        recommends this product      0  "
      ]
     },
     "execution_count": 10,
     "metadata": {},
     "output_type": "execute_result"
    }
   ],
   "source": [
    "df2.head(10)"
   ]
  },
  {
   "cell_type": "markdown",
   "metadata": {},
   "source": [
    "oke, mari kita mulai  \n",
    "  \n",
    "  \n",
    "eh bentar, kalo diliat-liat datanya masih kurang ringkas nih  \n",
    "saya ganti dulu ya beberapa data yang kurang ringkas dalam tiap kolom"
   ]
  },
  {
   "cell_type": "markdown",
   "metadata": {},
   "source": [
    "mari persingkat isi dari kolom **recommend**"
   ]
  },
  {
   "cell_type": "markdown",
   "metadata": {},
   "source": [
    "**before**"
   ]
  },
  {
   "cell_type": "code",
   "execution_count": 11,
   "metadata": {},
   "outputs": [
    {
     "data": {
      "text/plain": [
       "recommend\n",
       "doesnt recommend this product     69\n",
       "recommends this product          921\n",
       "dtype: int64"
      ]
     },
     "execution_count": 11,
     "metadata": {},
     "output_type": "execute_result"
    }
   ],
   "source": [
    "df2.groupby('recommend').size()"
   ]
  },
  {
   "cell_type": "code",
   "execution_count": 12,
   "metadata": {
    "collapsed": true
   },
   "outputs": [],
   "source": [
    "df2.loc[df['recommend'] == 'recommends this product', ['recommend']] = 'yes'\n",
    "df2.loc[df['recommend'] == 'doesnt recommend this product', ['recommend']] = 'no'"
   ]
  },
  {
   "cell_type": "markdown",
   "metadata": {},
   "source": [
    "**after**"
   ]
  },
  {
   "cell_type": "code",
   "execution_count": 13,
   "metadata": {},
   "outputs": [
    {
     "data": {
      "text/plain": [
       "recommend\n",
       "no      69\n",
       "yes    921\n",
       "dtype: int64"
      ]
     },
     "execution_count": 13,
     "metadata": {},
     "output_type": "execute_result"
    }
   ],
   "source": [
    "df2.groupby('recommend').size()"
   ]
  },
  {
   "cell_type": "markdown",
   "metadata": {},
   "source": [
    "**before**"
   ]
  },
  {
   "cell_type": "code",
   "execution_count": 14,
   "metadata": {},
   "outputs": [
    {
     "data": {
      "text/plain": [
       "age\n",
       "18 and under    220\n",
       "19 - 24         544\n",
       "25 - 29         170\n",
       "30 - 34          42\n",
       "35 - 39          12\n",
       "40 - 44           1\n",
       "45 and above      1\n",
       "dtype: int64"
      ]
     },
     "execution_count": 14,
     "metadata": {},
     "output_type": "execute_result"
    }
   ],
   "source": [
    "df2.groupby('age').size()"
   ]
  },
  {
   "cell_type": "code",
   "execution_count": 15,
   "metadata": {
    "collapsed": true
   },
   "outputs": [],
   "source": [
    "df2.loc[df2['age'] == '18 and under', ['age']] = '<= 18'\n",
    "df2.loc[df2['age'] == '45 and above', ['age']] = '>= 45'"
   ]
  },
  {
   "cell_type": "markdown",
   "metadata": {},
   "source": [
    "**after**"
   ]
  },
  {
   "cell_type": "code",
   "execution_count": 16,
   "metadata": {},
   "outputs": [
    {
     "data": {
      "text/plain": [
       "age\n",
       "19 - 24    544\n",
       "25 - 29    170\n",
       "30 - 34     42\n",
       "35 - 39     12\n",
       "40 - 44      1\n",
       "<= 18      220\n",
       ">= 45        1\n",
       "dtype: int64"
      ]
     },
     "execution_count": 16,
     "metadata": {},
     "output_type": "execute_result"
    }
   ],
   "source": [
    "df2.groupby('age').size()"
   ]
  },
  {
   "cell_type": "markdown",
   "metadata": {},
   "source": [
    "next >>>"
   ]
  },
  {
   "cell_type": "markdown",
   "metadata": {},
   "source": [
    "**before**"
   ]
  },
  {
   "cell_type": "code",
   "execution_count": 17,
   "metadata": {},
   "outputs": [
    {
     "data": {
      "text/plain": [
       "periode\n",
       "1 month - 3 months     245\n",
       "1 week - 1 month       140\n",
       "3 months - 6 months    186\n",
       "6 months - 1 year      133\n",
       "less than 1 week        66\n",
       "more than 1 year       220\n",
       "dtype: int64"
      ]
     },
     "execution_count": 17,
     "metadata": {},
     "output_type": "execute_result"
    }
   ],
   "source": [
    "df2.groupby('periode').size()"
   ]
  },
  {
   "cell_type": "code",
   "execution_count": 18,
   "metadata": {
    "collapsed": true
   },
   "outputs": [],
   "source": [
    "df2.loc[df2['periode'] == '1 month - 3 months', ['periode']] = '1 - 3 months'\n",
    "df2.loc[df2['periode'] == '1 week - 1 month', ['periode']] = '1 - 4 weeks'\n",
    "df2.loc[df2['periode'] == '3 months - 6 months', ['periode']] = '3 - 6 months'\n",
    "df2.loc[df2['periode'] == '6 months - 1 year', ['periode']] = '6 - 12 months'\n",
    "df2.loc[df2['periode'] == 'less than 1 week', ['periode']] = '< 1 week'\n",
    "df2.loc[df2['periode'] == 'more than 1 year', ['periode']] = '> 1 year'"
   ]
  },
  {
   "cell_type": "markdown",
   "metadata": {},
   "source": [
    "**after**"
   ]
  },
  {
   "cell_type": "code",
   "execution_count": 19,
   "metadata": {},
   "outputs": [
    {
     "data": {
      "text/plain": [
       "periode\n",
       "1 - 3 months     245\n",
       "1 - 4 weeks      140\n",
       "3 - 6 months     186\n",
       "6 - 12 months    133\n",
       "< 1 week          66\n",
       "> 1 year         220\n",
       "dtype: int64"
      ]
     },
     "execution_count": 19,
     "metadata": {},
     "output_type": "execute_result"
    }
   ],
   "source": [
    "df2.groupby('periode').size()"
   ]
  },
  {
   "cell_type": "code",
   "execution_count": 20,
   "metadata": {},
   "outputs": [
    {
     "data": {
      "text/html": [
       "<div>\n",
       "<style scoped>\n",
       "    .dataframe tbody tr th:only-of-type {\n",
       "        vertical-align: middle;\n",
       "    }\n",
       "\n",
       "    .dataframe tbody tr th {\n",
       "        vertical-align: top;\n",
       "    }\n",
       "\n",
       "    .dataframe thead th {\n",
       "        text-align: right;\n",
       "    }\n",
       "</style>\n",
       "<table border=\"1\" class=\"dataframe\">\n",
       "  <thead>\n",
       "    <tr style=\"text-align: right;\">\n",
       "      <th></th>\n",
       "      <th>types</th>\n",
       "      <th>tones</th>\n",
       "      <th>undertones</th>\n",
       "      <th>age</th>\n",
       "      <th>periode</th>\n",
       "      <th>buy</th>\n",
       "      <th>recommend</th>\n",
       "      <th>likes</th>\n",
       "    </tr>\n",
       "  </thead>\n",
       "  <tbody>\n",
       "    <tr>\n",
       "      <th>0</th>\n",
       "      <td>oily</td>\n",
       "      <td>medium light</td>\n",
       "      <td>cool</td>\n",
       "      <td>25 - 29</td>\n",
       "      <td>1 - 3 months</td>\n",
       "      <td>watson</td>\n",
       "      <td>yes</td>\n",
       "      <td>5</td>\n",
       "    </tr>\n",
       "    <tr>\n",
       "      <th>1</th>\n",
       "      <td>normal</td>\n",
       "      <td>medium dark</td>\n",
       "      <td>warm</td>\n",
       "      <td>19 - 24</td>\n",
       "      <td>&gt; 1 year</td>\n",
       "      <td>transmart</td>\n",
       "      <td>yes</td>\n",
       "      <td>0</td>\n",
       "    </tr>\n",
       "    <tr>\n",
       "      <th>2</th>\n",
       "      <td>combination</td>\n",
       "      <td>medium</td>\n",
       "      <td>neutral</td>\n",
       "      <td>19 - 24</td>\n",
       "      <td>1 - 3 months</td>\n",
       "      <td>shopee</td>\n",
       "      <td>yes</td>\n",
       "      <td>0</td>\n",
       "    </tr>\n",
       "    <tr>\n",
       "      <th>3</th>\n",
       "      <td>normal</td>\n",
       "      <td>medium light</td>\n",
       "      <td>neutral</td>\n",
       "      <td>19 - 24</td>\n",
       "      <td>6 - 12 months</td>\n",
       "      <td>transmart</td>\n",
       "      <td>yes</td>\n",
       "      <td>0</td>\n",
       "    </tr>\n",
       "    <tr>\n",
       "      <th>4</th>\n",
       "      <td>dry</td>\n",
       "      <td>medium</td>\n",
       "      <td>neutral</td>\n",
       "      <td>19 - 24</td>\n",
       "      <td>&gt; 1 year</td>\n",
       "      <td>tokopedia</td>\n",
       "      <td>yes</td>\n",
       "      <td>0</td>\n",
       "    </tr>\n",
       "  </tbody>\n",
       "</table>\n",
       "</div>"
      ],
      "text/plain": [
       "         types          tones undertones      age        periode        buy  \\\n",
       "0         oily   medium light       cool  25 - 29   1 - 3 months     watson   \n",
       "1       normal    medium dark       warm  19 - 24       > 1 year  transmart   \n",
       "2  combination         medium    neutral  19 - 24   1 - 3 months     shopee   \n",
       "3       normal   medium light    neutral  19 - 24  6 - 12 months  transmart   \n",
       "4          dry         medium    neutral  19 - 24       > 1 year  tokopedia   \n",
       "\n",
       "  recommend  likes  \n",
       "0       yes      5  \n",
       "1       yes      0  \n",
       "2       yes      0  \n",
       "3       yes      0  \n",
       "4       yes      0  "
      ]
     },
     "execution_count": 20,
     "metadata": {},
     "output_type": "execute_result"
    }
   ],
   "source": [
    "df2.head()"
   ]
  },
  {
   "cell_type": "markdown",
   "metadata": {},
   "source": [
    "### persentase 'recommend' dan 'not recommend'"
   ]
  },
  {
   "cell_type": "code",
   "execution_count": 21,
   "metadata": {},
   "outputs": [
    {
     "data": {
      "text/plain": [
       "recommend\n",
       "yes    93.03\n",
       "no      6.97\n",
       "dtype: float64"
      ]
     },
     "execution_count": 21,
     "metadata": {},
     "output_type": "execute_result"
    }
   ],
   "source": [
    "round(df2.groupby('recommend').size().sort_values(ascending=False)/len(df2)*100, 2)"
   ]
  },
  {
   "cell_type": "markdown",
   "metadata": {},
   "source": [
    "waw, **93.03 %** merekomendasikan produk ini"
   ]
  },
  {
   "cell_type": "markdown",
   "metadata": {},
   "source": [
    "### coba kita lihat persentase jumlah review berdasarkan **tipe kulit**"
   ]
  },
  {
   "cell_type": "code",
   "execution_count": 22,
   "metadata": {},
   "outputs": [
    {
     "data": {
      "text/plain": [
       "types\n",
       "combination    47.98\n",
       "dry            22.32\n",
       "oily           18.48\n",
       "normal         11.11\n",
       "25 - 29         0.10\n",
       "dtype: float64"
      ]
     },
     "execution_count": 22,
     "metadata": {},
     "output_type": "execute_result"
    }
   ],
   "source": [
    "round(df2.groupby('types').size().sort_values(ascending=False)/len(df2)*100, 2)"
   ]
  },
  {
   "cell_type": "markdown",
   "metadata": {},
   "source": [
    "oke, didominasi oleh reviewer dengan tipe kulit **kombinasi** sebanyak **47.98 %**"
   ]
  },
  {
   "cell_type": "markdown",
   "metadata": {},
   "source": [
    "### kalo persentase jumlah reviewer berdasarkan umur"
   ]
  },
  {
   "cell_type": "code",
   "execution_count": 23,
   "metadata": {},
   "outputs": [
    {
     "data": {
      "text/plain": [
       "age\n",
       "19 - 24    54.95\n",
       "<= 18      22.22\n",
       "25 - 29    17.17\n",
       "30 - 34     4.24\n",
       "35 - 39     1.21\n",
       ">= 45       0.10\n",
       "40 - 44     0.10\n",
       "dtype: float64"
      ]
     },
     "execution_count": 23,
     "metadata": {},
     "output_type": "execute_result"
    }
   ],
   "source": [
    "round(df2.groupby('age').size().sort_values(ascending=False)/len(df2)*100, 2)"
   ]
  },
  {
   "cell_type": "markdown",
   "metadata": {},
   "source": [
    "**54.95 %** reviewer memiliki usia direntang **19 - 24 tahun**  \n",
    "  \n",
    "lanjut >>>"
   ]
  },
  {
   "cell_type": "markdown",
   "metadata": {},
   "source": [
    "### persentase berdasarkan periode pemakaian"
   ]
  },
  {
   "cell_type": "code",
   "execution_count": 24,
   "metadata": {},
   "outputs": [
    {
     "data": {
      "text/plain": [
       "periode\n",
       "1 - 3 months     24.75\n",
       "> 1 year         22.22\n",
       "3 - 6 months     18.79\n",
       "1 - 4 weeks      14.14\n",
       "6 - 12 months    13.43\n",
       "< 1 week          6.67\n",
       "dtype: float64"
      ]
     },
     "execution_count": 24,
     "metadata": {},
     "output_type": "execute_result"
    }
   ],
   "source": [
    "round(df2.groupby('periode').size().sort_values(ascending=False)/len(df2)*100, 2)"
   ]
  },
  {
   "cell_type": "markdown",
   "metadata": {},
   "source": [
    "didominasi oleh pemakaian dengan periode **1 - 3 bulan** dan **> 1 tahun**  \n",
    "dengan nilai persentase yang hampir sama di **24.75%** dan **22.22%**"
   ]
  },
  {
   "cell_type": "markdown",
   "metadata": {},
   "source": [
    "### persentase berdasarkan tempat pembelian"
   ]
  },
  {
   "cell_type": "code",
   "execution_count": 25,
   "metadata": {},
   "outputs": [
    {
     "data": {
      "text/plain": [
       "buy\n",
       "shopee                  63.33\n",
       "guardian                 6.87\n",
       "watson                   5.25\n",
       "tokopedia                3.54\n",
       "traditional market       3.03\n",
       "                        ...  \n",
       "pamella                  0.10\n",
       "hero                     0.10\n",
       "griya plaza sumedang     0.10\n",
       "griya                    0.10\n",
       "yogya supermarket        0.10\n",
       "Length: 61, dtype: float64"
      ]
     },
     "execution_count": 25,
     "metadata": {},
     "output_type": "execute_result"
    }
   ],
   "source": [
    "round(df2.groupby('buy').size().sort_values(ascending=False)/len(df2)*100, 2)"
   ]
  },
  {
   "cell_type": "markdown",
   "metadata": {},
   "source": [
    "**63.33%** belinya di si oren"
   ]
  },
  {
   "cell_type": "markdown",
   "metadata": {},
   "source": [
    "kalo review dengan dukungan terbanyak ada dimana ya?"
   ]
  },
  {
   "cell_type": "code",
   "execution_count": 33,
   "metadata": {},
   "outputs": [
    {
     "data": {
      "text/html": [
       "<div>\n",
       "<style scoped>\n",
       "    .dataframe tbody tr th:only-of-type {\n",
       "        vertical-align: middle;\n",
       "    }\n",
       "\n",
       "    .dataframe tbody tr th {\n",
       "        vertical-align: top;\n",
       "    }\n",
       "\n",
       "    .dataframe thead th {\n",
       "        text-align: right;\n",
       "    }\n",
       "</style>\n",
       "<table border=\"1\" class=\"dataframe\">\n",
       "  <thead>\n",
       "    <tr style=\"text-align: right;\">\n",
       "      <th></th>\n",
       "      <th>index</th>\n",
       "      <th>types</th>\n",
       "      <th>tones</th>\n",
       "      <th>undertones</th>\n",
       "      <th>age</th>\n",
       "      <th>periode</th>\n",
       "      <th>buy</th>\n",
       "      <th>recommend</th>\n",
       "      <th>likes</th>\n",
       "    </tr>\n",
       "  </thead>\n",
       "  <tbody>\n",
       "    <tr>\n",
       "      <th>0</th>\n",
       "      <td>402</td>\n",
       "      <td>normal</td>\n",
       "      <td>medium light</td>\n",
       "      <td>neutral</td>\n",
       "      <td>19 - 24</td>\n",
       "      <td>1 - 4 weeks</td>\n",
       "      <td>shopee</td>\n",
       "      <td>yes</td>\n",
       "      <td>74</td>\n",
       "    </tr>\n",
       "    <tr>\n",
       "      <th>1</th>\n",
       "      <td>891</td>\n",
       "      <td>combination</td>\n",
       "      <td>medium dark</td>\n",
       "      <td>neutral</td>\n",
       "      <td>19 - 24</td>\n",
       "      <td>1 - 3 months</td>\n",
       "      <td>tokopedia</td>\n",
       "      <td>yes</td>\n",
       "      <td>64</td>\n",
       "    </tr>\n",
       "    <tr>\n",
       "      <th>2</th>\n",
       "      <td>890</td>\n",
       "      <td>combination</td>\n",
       "      <td>medium light</td>\n",
       "      <td>neutral</td>\n",
       "      <td>&lt;= 18</td>\n",
       "      <td>1 - 4 weeks</td>\n",
       "      <td>aeon</td>\n",
       "      <td>yes</td>\n",
       "      <td>37</td>\n",
       "    </tr>\n",
       "    <tr>\n",
       "      <th>3</th>\n",
       "      <td>290</td>\n",
       "      <td>combination</td>\n",
       "      <td>medium</td>\n",
       "      <td>warm</td>\n",
       "      <td>19 - 24</td>\n",
       "      <td>3 - 6 months</td>\n",
       "      <td>shopee</td>\n",
       "      <td>yes</td>\n",
       "      <td>37</td>\n",
       "    </tr>\n",
       "    <tr>\n",
       "      <th>4</th>\n",
       "      <td>695</td>\n",
       "      <td>combination</td>\n",
       "      <td>medium light</td>\n",
       "      <td>cool</td>\n",
       "      <td>25 - 29</td>\n",
       "      <td>3 - 6 months</td>\n",
       "      <td>gift</td>\n",
       "      <td>yes</td>\n",
       "      <td>33</td>\n",
       "    </tr>\n",
       "    <tr>\n",
       "      <th>5</th>\n",
       "      <td>859</td>\n",
       "      <td>combination</td>\n",
       "      <td>medium light</td>\n",
       "      <td>cool</td>\n",
       "      <td>19 - 24</td>\n",
       "      <td>6 - 12 months</td>\n",
       "      <td>shopee</td>\n",
       "      <td>yes</td>\n",
       "      <td>32</td>\n",
       "    </tr>\n",
       "    <tr>\n",
       "      <th>6</th>\n",
       "      <td>600</td>\n",
       "      <td>oily</td>\n",
       "      <td>medium light</td>\n",
       "      <td>warm</td>\n",
       "      <td>19 - 24</td>\n",
       "      <td>1 - 3 months</td>\n",
       "      <td>shopee</td>\n",
       "      <td>yes</td>\n",
       "      <td>28</td>\n",
       "    </tr>\n",
       "    <tr>\n",
       "      <th>7</th>\n",
       "      <td>622</td>\n",
       "      <td>dry</td>\n",
       "      <td>medium</td>\n",
       "      <td>neutral</td>\n",
       "      <td>19 - 24</td>\n",
       "      <td>1 - 3 months</td>\n",
       "      <td>shopee</td>\n",
       "      <td>yes</td>\n",
       "      <td>24</td>\n",
       "    </tr>\n",
       "    <tr>\n",
       "      <th>8</th>\n",
       "      <td>735</td>\n",
       "      <td>combination</td>\n",
       "      <td>medium light</td>\n",
       "      <td>warm</td>\n",
       "      <td>30 - 34</td>\n",
       "      <td>1 - 3 months</td>\n",
       "      <td>shopee</td>\n",
       "      <td>yes</td>\n",
       "      <td>24</td>\n",
       "    </tr>\n",
       "    <tr>\n",
       "      <th>9</th>\n",
       "      <td>371</td>\n",
       "      <td>normal</td>\n",
       "      <td>medium</td>\n",
       "      <td>neutral</td>\n",
       "      <td>19 - 24</td>\n",
       "      <td>1 - 4 weeks</td>\n",
       "      <td>shopee</td>\n",
       "      <td>yes</td>\n",
       "      <td>21</td>\n",
       "    </tr>\n",
       "    <tr>\n",
       "      <th>10</th>\n",
       "      <td>91</td>\n",
       "      <td>combination</td>\n",
       "      <td>medium</td>\n",
       "      <td>neutral</td>\n",
       "      <td>&lt;= 18</td>\n",
       "      <td>1 - 3 months</td>\n",
       "      <td>shopee</td>\n",
       "      <td>no</td>\n",
       "      <td>20</td>\n",
       "    </tr>\n",
       "    <tr>\n",
       "      <th>11</th>\n",
       "      <td>130</td>\n",
       "      <td>combination</td>\n",
       "      <td>medium</td>\n",
       "      <td>neutral</td>\n",
       "      <td>&lt;= 18</td>\n",
       "      <td>1 - 3 months</td>\n",
       "      <td>shopee</td>\n",
       "      <td>yes</td>\n",
       "      <td>20</td>\n",
       "    </tr>\n",
       "    <tr>\n",
       "      <th>12</th>\n",
       "      <td>559</td>\n",
       "      <td>oily</td>\n",
       "      <td>medium</td>\n",
       "      <td>neutral</td>\n",
       "      <td>19 - 24</td>\n",
       "      <td>1 - 3 months</td>\n",
       "      <td>shopee</td>\n",
       "      <td>yes</td>\n",
       "      <td>19</td>\n",
       "    </tr>\n",
       "    <tr>\n",
       "      <th>13</th>\n",
       "      <td>788</td>\n",
       "      <td>combination</td>\n",
       "      <td>medium light</td>\n",
       "      <td>neutral</td>\n",
       "      <td>&lt;= 18</td>\n",
       "      <td>1 - 3 months</td>\n",
       "      <td>tokopedia</td>\n",
       "      <td>yes</td>\n",
       "      <td>18</td>\n",
       "    </tr>\n",
       "    <tr>\n",
       "      <th>14</th>\n",
       "      <td>100</td>\n",
       "      <td>combination</td>\n",
       "      <td>medium</td>\n",
       "      <td>warm</td>\n",
       "      <td>19 - 24</td>\n",
       "      <td>1 - 4 weeks</td>\n",
       "      <td>shopee</td>\n",
       "      <td>yes</td>\n",
       "      <td>18</td>\n",
       "    </tr>\n",
       "    <tr>\n",
       "      <th>15</th>\n",
       "      <td>294</td>\n",
       "      <td>dry</td>\n",
       "      <td>medium</td>\n",
       "      <td>neutral</td>\n",
       "      <td>19 - 24</td>\n",
       "      <td>&gt; 1 year</td>\n",
       "      <td>shopee</td>\n",
       "      <td>yes</td>\n",
       "      <td>17</td>\n",
       "    </tr>\n",
       "    <tr>\n",
       "      <th>16</th>\n",
       "      <td>270</td>\n",
       "      <td>combination</td>\n",
       "      <td>medium light</td>\n",
       "      <td>neutral</td>\n",
       "      <td>25 - 29</td>\n",
       "      <td>1 - 3 months</td>\n",
       "      <td>shopee</td>\n",
       "      <td>yes</td>\n",
       "      <td>17</td>\n",
       "    </tr>\n",
       "    <tr>\n",
       "      <th>17</th>\n",
       "      <td>932</td>\n",
       "      <td>oily</td>\n",
       "      <td>medium light</td>\n",
       "      <td>warm</td>\n",
       "      <td>19 - 24</td>\n",
       "      <td>1 - 3 months</td>\n",
       "      <td>shopee</td>\n",
       "      <td>yes</td>\n",
       "      <td>15</td>\n",
       "    </tr>\n",
       "    <tr>\n",
       "      <th>18</th>\n",
       "      <td>984</td>\n",
       "      <td>oily</td>\n",
       "      <td>medium light</td>\n",
       "      <td>neutral</td>\n",
       "      <td>19 - 24</td>\n",
       "      <td>1 - 3 months</td>\n",
       "      <td>shopee</td>\n",
       "      <td>yes</td>\n",
       "      <td>14</td>\n",
       "    </tr>\n",
       "    <tr>\n",
       "      <th>19</th>\n",
       "      <td>883</td>\n",
       "      <td>dry</td>\n",
       "      <td>medium</td>\n",
       "      <td>neutral</td>\n",
       "      <td>25 - 29</td>\n",
       "      <td>&gt; 1 year</td>\n",
       "      <td>hypermart</td>\n",
       "      <td>yes</td>\n",
       "      <td>14</td>\n",
       "    </tr>\n",
       "  </tbody>\n",
       "</table>\n",
       "</div>"
      ],
      "text/plain": [
       "    index        types          tones undertones      age        periode  \\\n",
       "0     402       normal   medium light    neutral  19 - 24    1 - 4 weeks   \n",
       "1     891  combination    medium dark    neutral  19 - 24   1 - 3 months   \n",
       "2     890  combination   medium light    neutral    <= 18    1 - 4 weeks   \n",
       "3     290  combination         medium       warm  19 - 24   3 - 6 months   \n",
       "4     695  combination   medium light       cool  25 - 29   3 - 6 months   \n",
       "5     859  combination   medium light       cool  19 - 24  6 - 12 months   \n",
       "6     600         oily   medium light       warm  19 - 24   1 - 3 months   \n",
       "7     622          dry         medium    neutral  19 - 24   1 - 3 months   \n",
       "8     735  combination   medium light       warm  30 - 34   1 - 3 months   \n",
       "9     371       normal         medium    neutral  19 - 24    1 - 4 weeks   \n",
       "10     91  combination         medium    neutral    <= 18   1 - 3 months   \n",
       "11    130  combination         medium    neutral    <= 18   1 - 3 months   \n",
       "12    559         oily         medium    neutral  19 - 24   1 - 3 months   \n",
       "13    788  combination   medium light    neutral    <= 18   1 - 3 months   \n",
       "14    100  combination         medium       warm  19 - 24    1 - 4 weeks   \n",
       "15    294          dry         medium    neutral  19 - 24       > 1 year   \n",
       "16    270  combination   medium light    neutral  25 - 29   1 - 3 months   \n",
       "17    932         oily   medium light       warm  19 - 24   1 - 3 months   \n",
       "18    984         oily   medium light    neutral  19 - 24   1 - 3 months   \n",
       "19    883          dry         medium    neutral  25 - 29       > 1 year   \n",
       "\n",
       "          buy recommend  likes  \n",
       "0      shopee       yes     74  \n",
       "1   tokopedia       yes     64  \n",
       "2        aeon       yes     37  \n",
       "3      shopee       yes     37  \n",
       "4        gift       yes     33  \n",
       "5      shopee       yes     32  \n",
       "6      shopee       yes     28  \n",
       "7      shopee       yes     24  \n",
       "8      shopee       yes     24  \n",
       "9      shopee       yes     21  \n",
       "10     shopee        no     20  \n",
       "11     shopee       yes     20  \n",
       "12     shopee       yes     19  \n",
       "13  tokopedia       yes     18  \n",
       "14     shopee       yes     18  \n",
       "15     shopee       yes     17  \n",
       "16     shopee       yes     17  \n",
       "17     shopee       yes     15  \n",
       "18     shopee       yes     14  \n",
       "19  hypermart       yes     14  "
      ]
     },
     "execution_count": 33,
     "metadata": {},
     "output_type": "execute_result"
    }
   ],
   "source": [
    "df2.sort_values(by='likes', ascending=False).nlargest(20, columns='likes').reset_index()"
   ]
  },
  {
   "cell_type": "markdown",
   "metadata": {},
   "source": [
    "wah, **19** dari **20** review dengan *dukungan terbanyak* **merekomendasikan** produk ini,  \n",
    "tapi, ada **1** review dengan *dukungan terbanyak* yang **tidak merekomendasikan**  "
   ]
  },
  {
   "cell_type": "markdown",
   "metadata": {},
   "source": [
    "mari kita lihat isi reviewnya"
   ]
  },
  {
   "cell_type": "code",
   "execution_count": 34,
   "metadata": {},
   "outputs": [
    {
     "data": {
      "text/html": [
       "<div>\n",
       "<style scoped>\n",
       "    .dataframe tbody tr th:only-of-type {\n",
       "        vertical-align: middle;\n",
       "    }\n",
       "\n",
       "    .dataframe tbody tr th {\n",
       "        vertical-align: top;\n",
       "    }\n",
       "\n",
       "    .dataframe thead th {\n",
       "        text-align: right;\n",
       "    }\n",
       "</style>\n",
       "<table border=\"1\" class=\"dataframe\">\n",
       "  <thead>\n",
       "    <tr style=\"text-align: right;\">\n",
       "      <th></th>\n",
       "      <th>types</th>\n",
       "      <th>tones</th>\n",
       "      <th>undertones</th>\n",
       "      <th>age</th>\n",
       "      <th>periode</th>\n",
       "      <th>content</th>\n",
       "      <th>buy</th>\n",
       "      <th>recommend</th>\n",
       "      <th>likes</th>\n",
       "    </tr>\n",
       "  </thead>\n",
       "  <tbody>\n",
       "    <tr>\n",
       "      <th>91</th>\n",
       "      <td>combination</td>\n",
       "      <td>medium</td>\n",
       "      <td>neutral</td>\n",
       "      <td>18 and under</td>\n",
       "      <td>1 month - 3 months</td>\n",
       "      <td>agak bingung sih sebenernya  ini tuh bikin mukaku terhidrasi banget  lembab kenyal gitu abis pake ini  tapi setelah bbrp malem pake ini muncul jerawat di pipi dan beruntusan di jidiat  dan jerawat aku yang lagi meradang yg tdnya putih2nya udh keluar  eh sakit lagi pas pake ini  bye bye hadalabo</td>\n",
       "      <td>shopee</td>\n",
       "      <td>doesnt recommend this product</td>\n",
       "      <td>20</td>\n",
       "    </tr>\n",
       "  </tbody>\n",
       "</table>\n",
       "</div>"
      ],
      "text/plain": [
       "          types    tones undertones           age             periode  \\\n",
       "91  combination   medium    neutral  18 and under  1 month - 3 months   \n",
       "\n",
       "                                                                                                                                                                                                                                                                                                    content  \\\n",
       "91  agak bingung sih sebenernya  ini tuh bikin mukaku terhidrasi banget  lembab kenyal gitu abis pake ini  tapi setelah bbrp malem pake ini muncul jerawat di pipi dan beruntusan di jidiat  dan jerawat aku yang lagi meradang yg tdnya putih2nya udh keluar  eh sakit lagi pas pake ini  bye bye hadalabo   \n",
       "\n",
       "       buy                      recommend  likes  \n",
       "91  shopee  doesnt recommend this product     20  "
      ]
     },
     "execution_count": 34,
     "metadata": {},
     "output_type": "execute_result"
    }
   ],
   "source": [
    "pd.set_option('display.max_colwidth', 300)\n",
    "df.loc[[91]]"
   ]
  },
  {
   "cell_type": "markdown",
   "metadata": {},
   "source": [
    "reviewer mengalami masalah **jerawat yang muncul dan beruntusan** setelah pemakaian,  \n",
    "dengan tipe kulit **kombinasi**  \n",
    "usia **<= 18 tahun** dengan periode pemakaian **1 - 3 bulan** (jumlah dukungan 20)  \n",
    "  \n",
    "  \n",
    "*jumlah dukungan: sejumlah orang memiliki kondisi yang sama*  \n",
    "*variabel **tones** dan **undertones** untuk produk ini untuk sementara diabaikan,  \n",
    "karena keduanya tidak memiliki pengaruh secara signifikan*"
   ]
  },
  {
   "cell_type": "markdown",
   "metadata": {},
   "source": [
    "oke, saya highlight dulu review dengan tipe kulit **kombinasi**,  \n",
    "untuk mengetahui kecenderungan mereka terhadap pemakaian produk ini.  \n",
    "kebetulan tipe kulit saya juga sama, heheu  \n",
    "selain itu tipe kulit **kombinasi** juga mendominasi jumlah review."
   ]
  },
  {
   "cell_type": "markdown",
   "metadata": {},
   "source": [
    "## tipe kulit kombinasi"
   ]
  },
  {
   "cell_type": "code",
   "execution_count": 35,
   "metadata": {},
   "outputs": [
    {
     "data": {
      "text/plain": [
       "types        age    \n",
       "combination  19 - 24    50.53\n",
       "             <= 18      26.11\n",
       "             25 - 29    17.89\n",
       "             30 - 34     3.58\n",
       "             35 - 39     1.89\n",
       "Name: age, dtype: float64"
      ]
     },
     "execution_count": 35,
     "metadata": {},
     "output_type": "execute_result"
    }
   ],
   "source": [
    "round(df2.loc[df2['types'] == 'combination'].groupby('types')['age'].value_counts(range)*100, 2)"
   ]
  },
  {
   "cell_type": "markdown",
   "metadata": {},
   "source": [
    "pada tipe kulit **kombinasi**, responden dengan rentang usia **19 - 24 tahun** mendominasi (**50.53 %**)  \n",
    "disusul responden dengan rentang usia **<= 18 tahun** (**26.11 %**)"
   ]
  },
  {
   "cell_type": "markdown",
   "metadata": {},
   "source": [
    "sekarang coba kita lihat **periode pemakaian** dari masing-masing **rentang usia**"
   ]
  },
  {
   "cell_type": "code",
   "execution_count": 36,
   "metadata": {},
   "outputs": [
    {
     "data": {
      "text/plain": [
       "types        age      periode      \n",
       "combination  19 - 24  > 1 year         29.58\n",
       "                      1 - 3 months     22.08\n",
       "                      1 - 4 weeks      16.67\n",
       "                      3 - 6 months     14.58\n",
       "                      6 - 12 months    12.92\n",
       "                      < 1 week          4.17\n",
       "             25 - 29  1 - 3 months     28.24\n",
       "                      3 - 6 months     22.35\n",
       "                      > 1 year         21.18\n",
       "                      6 - 12 months    10.59\n",
       "                      < 1 week          9.41\n",
       "                      1 - 4 weeks       8.24\n",
       "             30 - 34  6 - 12 months    29.41\n",
       "                      1 - 3 months     17.65\n",
       "                      1 - 4 weeks      17.65\n",
       "                      > 1 year         17.65\n",
       "                      < 1 week         11.76\n",
       "                      3 - 6 months      5.88\n",
       "             35 - 39  1 - 3 months     33.33\n",
       "                      < 1 week         22.22\n",
       "                      1 - 4 weeks      11.11\n",
       "                      3 - 6 months     11.11\n",
       "                      6 - 12 months    11.11\n",
       "                      > 1 year         11.11\n",
       "             <= 18    1 - 3 months     32.26\n",
       "                      1 - 4 weeks      18.55\n",
       "                      3 - 6 months     16.94\n",
       "                      6 - 12 months    14.52\n",
       "                      < 1 week         10.48\n",
       "                      > 1 year          7.26\n",
       "Name: periode, dtype: float64"
      ]
     },
     "execution_count": 36,
     "metadata": {},
     "output_type": "execute_result"
    }
   ],
   "source": [
    "round(df2.loc[df2['types'] == 'combination'].groupby(['types', 'age'])['periode'].value_counts(range)*100, 2)"
   ]
  },
  {
   "cell_type": "markdown",
   "metadata": {},
   "source": [
    "jadi **rentang usia**  \n",
    "**19 - 24** didominasi periode pemakaian **> 1 tahun**  \n",
    "**25 - 29** didominasi periode pemakaian **1 - 3 bulan**  \n",
    "**30 - 34** didominasi periode pemakaian **6 - 12 bulan**  \n",
    "**35 - 39** didominasi periode pemakaian **1 - 3 bulan**  \n",
    "**<= 18** didominasi periode pemakaian **1 - 3 bulan**  "
   ]
  },
  {
   "cell_type": "markdown",
   "metadata": {},
   "source": [
    "### jumlah reviewer (combination) berdasarkan **rentang usia** dan pemakaian > 1 tahun"
   ]
  },
  {
   "cell_type": "code",
   "execution_count": 38,
   "metadata": {},
   "outputs": [
    {
     "data": {
      "text/plain": [
       "age      periode \n",
       "19 - 24  > 1 year    71\n",
       "25 - 29  > 1 year    18\n",
       "30 - 34  > 1 year     3\n",
       "35 - 39  > 1 year     1\n",
       "<= 18    > 1 year     9\n",
       "Name: periode, dtype: int64"
      ]
     },
     "execution_count": 38,
     "metadata": {},
     "output_type": "execute_result"
    }
   ],
   "source": [
    "df2[df2['types'] == 'combination'].groupby(df2.loc[df2['periode'] == '> 1 year', 'age'])['periode'].value_counts()"
   ]
  },
  {
   "cell_type": "code",
   "execution_count": 39,
   "metadata": {},
   "outputs": [
    {
     "data": {
      "text/plain": [
       "<AxesSubplot:title={'center':'tipe kulit kombinasi dengan periode pemakaian > 1 tahun berdasarkan rentang usia'}, ylabel='age,periode'>"
      ]
     },
     "execution_count": 39,
     "metadata": {},
     "output_type": "execute_result"
    },
    {
     "data": {
      "image/png": "[encoded data removed]",
      "text/plain": [
       "<Figure size 504x216 with 1 Axes>"
      ]
     },
     "metadata": {
      "needs_background": "light"
     },
     "output_type": "display_data"
    }
   ],
   "source": [
    "df2[df2['types'] == 'combination'].groupby(df2.loc[df2['periode'] == '> 1 year', 'age'])['periode'].value_counts().sort_values().\\\n",
    "plot(kind='barh', title='tipe kulit kombinasi dengan periode pemakaian > 1 tahun berdasarkan rentang usia', figsize=(7,3))"
   ]
  },
  {
   "cell_type": "markdown",
   "metadata": {},
   "source": [
    "jika dilihat, untuk tipe kulit **kombinasi**  \n",
    "reviewer yang sering **repurchase** ada di **rentang usia 19 - 24 tahun** (dewasa-cocok)"
   ]
  },
  {
   "cell_type": "markdown",
   "metadata": {},
   "source": [
    "### rentang usia dengan pemakain < 1 minggu"
   ]
  },
  {
   "cell_type": "code",
   "execution_count": 40,
   "metadata": {},
   "outputs": [
    {
     "data": {
      "text/plain": [
       "<AxesSubplot:title={'center':'tipe kulit kombinasi dengan periode pemakaian < 1 minggu berdasarkan rentang usia'}, ylabel='age,periode'>"
      ]
     },
     "execution_count": 40,
     "metadata": {},
     "output_type": "execute_result"
    },
    {
     "data": {
      "image/png": "[encoded data removed]",
      "text/plain": [
       "<Figure size 504x216 with 1 Axes>"
      ]
     },
     "metadata": {
      "needs_background": "light"
     },
     "output_type": "display_data"
    }
   ],
   "source": [
    "df2[df2['types'] == 'combination'].groupby(df2.loc[df2['periode'] == '< 1 week', 'age'])['periode'].value_counts().sort_values().\\\n",
    "plot(kind='barh', title='tipe kulit kombinasi dengan periode pemakaian < 1 minggu berdasarkan rentang usia', figsize=(7,3))"
   ]
  },
  {
   "cell_type": "markdown",
   "metadata": {},
   "source": [
    "reviewer yang masih baru mencoba produk paling banyak di **rentang usia <= 18 tahun** (remaja-coba)"
   ]
  },
  {
   "cell_type": "markdown",
   "metadata": {},
   "source": [
    "#### perbandingan rekomendasi dan tidak rekomendasi berdasarkan rentang usia dan periode pemakaian"
   ]
  },
  {
   "cell_type": "code",
   "execution_count": 41,
   "metadata": {},
   "outputs": [
    {
     "data": {
      "text/plain": [
       "age      periode        recommend\n",
       "19 - 24  1 - 3 months   yes           90.57\n",
       "                        no             9.43\n",
       "         1 - 4 weeks    yes           90.00\n",
       "                        no            10.00\n",
       "         3 - 6 months   yes           97.14\n",
       "                        no             2.86\n",
       "         6 - 12 months  yes           96.77\n",
       "                        no             3.23\n",
       "         < 1 week       yes           80.00\n",
       "                        no            20.00\n",
       "         > 1 year       yes          100.00\n",
       "25 - 29  1 - 3 months   yes           95.83\n",
       "                        no             4.17\n",
       "         1 - 4 weeks    yes           85.71\n",
       "                        no            14.29\n",
       "         3 - 6 months   yes          100.00\n",
       "         6 - 12 months  yes           88.89\n",
       "                        no            11.11\n",
       "         < 1 week       no            62.50\n",
       "                        yes           37.50\n",
       "         > 1 year       yes          100.00\n",
       "30 - 34  1 - 3 months   yes           66.67\n",
       "                        no            33.33\n",
       "         1 - 4 weeks    yes          100.00\n",
       "         3 - 6 months   yes          100.00\n",
       "         6 - 12 months  yes          100.00\n",
       "         < 1 week       yes          100.00\n",
       "         > 1 year       yes          100.00\n",
       "35 - 39  1 - 3 months   yes           66.67\n",
       "                        no            33.33\n",
       "         1 - 4 weeks    no           100.00\n",
       "         3 - 6 months   yes          100.00\n",
       "         6 - 12 months  yes          100.00\n",
       "         < 1 week       no            50.00\n",
       "                        yes           50.00\n",
       "         > 1 year       yes          100.00\n",
       "<= 18    1 - 3 months   yes           87.50\n",
       "                        no            12.50\n",
       "         1 - 4 weeks    yes           86.96\n",
       "                        no            13.04\n",
       "         3 - 6 months   yes          100.00\n",
       "         6 - 12 months  yes           94.44\n",
       "                        no             5.56\n",
       "         < 1 week       yes           92.31\n",
       "                        no             7.69\n",
       "         > 1 year       yes          100.00\n",
       "Name: recommend, dtype: float64"
      ]
     },
     "execution_count": 41,
     "metadata": {},
     "output_type": "execute_result"
    }
   ],
   "source": [
    "round(df2[df2['types'] == 'combination'].groupby(['age', 'periode'])['recommend'].value_counts(range)*100, 2)"
   ]
  },
  {
   "cell_type": "code",
   "execution_count": 42,
   "metadata": {},
   "outputs": [
    {
     "data": {
      "text/plain": [
       "age\n",
       "19 - 24    > 1 year\n",
       "<= 18      > 1 year\n",
       "25 - 29    > 1 year\n",
       "30 - 34    > 1 year\n",
       "35 - 39    > 1 year\n",
       "Name: periode, dtype: object"
      ]
     },
     "execution_count": 42,
     "metadata": {},
     "output_type": "execute_result"
    }
   ],
   "source": [
    "df2[df2['recommend'] == 'yes'].groupby(df2.loc[df2['types'] == 'combination', 'age'], sort=False)['periode'].max()"
   ]
  },
  {
   "cell_type": "code",
   "execution_count": 43,
   "metadata": {},
   "outputs": [
    {
     "data": {
      "text/plain": [
       "age      periode      \n",
       "19 - 24  > 1 year         71\n",
       "         1 - 3 months     48\n",
       "         1 - 4 weeks      36\n",
       "         3 - 6 months     34\n",
       "         6 - 12 months    30\n",
       "         < 1 week          8\n",
       "<= 18    1 - 3 months     35\n",
       "         3 - 6 months     21\n",
       "         1 - 4 weeks      20\n",
       "         6 - 12 months    17\n",
       "         < 1 week         12\n",
       "         > 1 year          9\n",
       "25 - 29  1 - 3 months     23\n",
       "         3 - 6 months     19\n",
       "         > 1 year         18\n",
       "         6 - 12 months     8\n",
       "         1 - 4 weeks       6\n",
       "         < 1 week          3\n",
       "30 - 34  6 - 12 months     5\n",
       "         1 - 4 weeks       3\n",
       "         > 1 year          3\n",
       "         1 - 3 months      2\n",
       "         < 1 week          2\n",
       "         3 - 6 months      1\n",
       "35 - 39  1 - 3 months      2\n",
       "         3 - 6 months      1\n",
       "         6 - 12 months     1\n",
       "         < 1 week          1\n",
       "         > 1 year          1\n",
       "Name: periode, dtype: int64"
      ]
     },
     "execution_count": 43,
     "metadata": {},
     "output_type": "execute_result"
    }
   ],
   "source": [
    "round(df2[df2['types'] == 'combination'].groupby(df2.loc[df2['recommend'] == 'yes', 'age'], sort=False)['periode'].value_counts(), 2) "
   ]
  },
  {
   "cell_type": "markdown",
   "metadata": {
    "collapsed": true
   },
   "source": [
    "***Bersambung***"
   ]
  },
  {
   "cell_type": "markdown",
   "metadata": {},
   "source": [
    "Sekian dan terima kasih, semoga bermanfaat."
   ]
  }
 ],
 "metadata": {
  "kernelspec": {
   "display_name": "Python 3",
   "language": "python",
   "name": "python3"
  },
  "language_info": {
   "codemirror_mode": {
    "name": "ipython",
    "version": 3
   },
   "file_extension": ".py",
   "mimetype": "text/x-python",
   "name": "python",
   "nbconvert_exporter": "python",
   "pygments_lexer": "ipython3",
   "version": "3.7.0"
  }
 },
 "nbformat": 4,
 "nbformat_minor": 2
}
